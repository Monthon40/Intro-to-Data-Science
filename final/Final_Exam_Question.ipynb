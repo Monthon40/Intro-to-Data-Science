{
 "cells": [
  {
   "cell_type": "markdown",
   "metadata": {},
   "source": [
    "# Please answer all the questions\n",
    "This is an open-book/open-note exam. You are allowed to use e-book or your own computer. You must join zoom and turn the camera on all the time. In some cases, there maybe a follow up (oral exam) to clarify your answer.\n",
    "\n",
    "(1) Use only knowledge learn from the class to answer the questions\n",
    "\n",
    "(2) In some questions, there are many ways to achieve the goal. Aim for the cleanliness, effectivenesss. In short, follow the methods we did in class. Try to avoid using indirect/slower way. The right answer with sub-optimum method will get lower score than using the appropriate method.\n",
    "\n",
    "(3) DO NOT USE FOR LOOP (or WHILE LOOP).\n",
    "\n",
    "(4) Use the given dataset only. DO NOT download the dataset from the Internet.\n",
    "\n",
    "(5) Always deal with missing values (if exists).\n",
    "\n",
    "\n",
    "When you finish, zip the whole folder (that has this notebook file and the datasets) into a zip file. Name the file as your student ID, and then email to me (the official email)\n",
    "** You are not allowed to communicate or have any collaboration with others. **"
   ]
  },
  {
   "cell_type": "code",
   "execution_count": 1,
   "metadata": {},
   "outputs": [],
   "source": [
    "#import the necessary libraries here\n",
    "import pandas as pd\n"
   ]
  },
  {
   "cell_type": "markdown",
   "metadata": {},
   "source": [
    "**Q1. _\\[20 points\\]_** \n",
    "1.1) What are the differences between supervised learning and unsupervised learning."
   ]
  },
  {
   "cell_type": "markdown",
   "metadata": {},
   "source": [
    "Answer 1.1)"
   ]
  },
  {
   "cell_type": "markdown",
   "metadata": {},
   "source": [
    "1.2) Give examples (the names of the algorithms and the applications of that algorithms) of the supervised learning and unsupervised learning."
   ]
  },
  {
   "cell_type": "markdown",
   "metadata": {},
   "source": [
    "Answer 1.2)"
   ]
  },
  {
   "cell_type": "markdown",
   "metadata": {},
   "source": [
    "**Q2. _\\[20 points\\]_** Create a classifier of choice (any classifier learnt in class) to predict that a person would get a heart problem or not. Create the classifier, assess the classifier and criticise your classifier. The label is the column \"HeartDisease\" where 1 means that the person has a heart disease. The data are in the file \"heart.csv\". (it is modified from the original data from: https://www.kaggle.com/fedesoriano/heart-failure-prediction )\n",
    "\n"
   ]
  },
  {
   "cell_type": "markdown",
   "metadata": {},
   "source": [
    "Answer 2)\n"
   ]
  },
  {
   "cell_type": "markdown",
   "metadata": {},
   "source": [
    "**Q3. _\\[10 points\\]_** What is the function of the seed (random_state)? Does the seed eliminate randomness in our algorithm?"
   ]
  },
  {
   "cell_type": "markdown",
   "metadata": {},
   "source": [
    "Answer 3)"
   ]
  },
  {
   "cell_type": "markdown",
   "metadata": {},
   "source": [
    "**Q4. _\\[20 points\\]_** The how many clusters in the data set below (blackbox.csv)? Write the code to help you find the answer. (Note: the dataset has 20 features and 1000 records)"
   ]
  },
  {
   "cell_type": "code",
   "execution_count": null,
   "metadata": {},
   "outputs": [],
   "source": [
    "# Answer 4) (the code & comments)\n"
   ]
  },
  {
   "cell_type": "markdown",
   "metadata": {},
   "source": [
    "**Q5. _\\[30 points\\]_**  If you were the restaurant owner who is running a very famous restaurant. More than 10000 customers post comments and ratings about your restaurant on google map (google allow users to post reviews of places). Each review on google map has both the text and the number of stars (from 1 to 5 stars). You pay Google to get the summary of the ratings/reviews as a csv file. Additional to Google Map reviews, you also notice that a lot of customers write about your restaurant on Twitter. You pay Twitter to send you a daily summary (a csv file) of all messages (posted on that day) that contain your restaurant name. The number of messages is quite high for you to read them all. You want to focus only on negative comments so that you can use that to improve your restaurant. What would you do to in order to bring to bad comments to you? (answer in the context of how would you apply knowledge in data science in to this problem)  \n",
    "This is a big question. Be articulate and precise. You don't have to write the code. However, your explaination contain details to show that if it can be implemented easily. \n",
    "Grading criteria:\n",
    "(1) Over all approach in tackling this problem\n",
    "(2) The technical aspect of each step"
   ]
  },
  {
   "cell_type": "markdown",
   "metadata": {},
   "source": [
    "Answer 5)"
   ]
  },
  {
   "cell_type": "markdown",
   "metadata": {},
   "source": []
  }
 ],
 "metadata": {
  "interpreter": {
   "hash": "819f24f341ef124d167305a49ca4b8194e16894371611e1353b80a7c75058736"
  },
  "kernelspec": {
   "display_name": "Python 3.8.11 64-bit ('ICCS161': conda)",
   "name": "python3"
  },
  "language_info": {
   "codemirror_mode": {
    "name": "ipython",
    "version": 3
   },
   "file_extension": ".py",
   "mimetype": "text/x-python",
   "name": "python",
   "nbconvert_exporter": "python",
   "pygments_lexer": "ipython3",
   "version": "3.8.11"
  }
 },
 "nbformat": 4,
 "nbformat_minor": 2
}
