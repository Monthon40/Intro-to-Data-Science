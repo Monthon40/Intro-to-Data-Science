{
 "cells": [
  {
   "cell_type": "markdown",
   "metadata": {},
   "source": [
    "# Please answer all the questions\n",
    "This is an open-book/open-note exam. You are allowed to use e-book or your own computer. You must join zoom and turn the camera on all the time. In some cases, there maybe a follow up (oral exam) to clarify your answer.\n",
    "\n",
    "(1) Use only knowledge from WEEK#1 to WEEK#6 (according to the syllabus)\n",
    "\n",
    "(2) In some questions, there are many ways to achieve the goal. Aim for the cleanliness, effectivenesss. In short, follow the methods we did in class. Try to avoid using indirect/slower way. The right answer with sub-optimum method will get lower score than using the appropriate method.\n",
    "\n",
    "(3) DO NOT USE FOR LOOP (or WHILE LOOP).\n",
    "\n",
    "(4) Always deal with missing values (if exists)\n",
    "\n",
    "(5) Even the given dataset is small (so that it won't run too slow on your computer), write code/program in a manner that it can deal with much larger dataframe easily. You code shall work even if we have 1,000,000 rows.\n",
    "\n",
    "When you finish, zip the whole folder (that has this notebook file and the datasets) into a zip file. Name the file as your student ID. Subbmit (upload to zip file as your submission)\n",
    "** You are not allowed to communicate or have any collaboration with others. **"
   ]
  },
  {
   "cell_type": "code",
   "execution_count": 3,
   "metadata": {},
   "outputs": [],
   "source": [
    "#import the necessary libraries here\n",
    "import pandas as pd\n"
   ]
  },
  {
   "cell_type": "markdown",
   "metadata": {},
   "source": [
    "**Q1. _\\[5 points\\]_** What are the key difference(s) between data science and statistics?"
   ]
  },
  {
   "cell_type": "code",
   "execution_count": 2,
   "metadata": {},
   "outputs": [],
   "source": [
    "# Q1 answer:"
   ]
  },
  {
   "cell_type": "markdown",
   "metadata": {},
   "source": [
    "**Q2. _\\[5 points\\]_** Write a paragraph (sentences in English) that describe about the last five subjects you took before. For each subject that you describe, you shall cover various aspect of the subject. There shall be at least 4 aspects. (Hint: think about the tip dataset. They captured various aspects, day, sex, etc.) Try to be precise since you will need this data for the next question.\n",
    "\n"
   ]
  },
  {
   "cell_type": "markdown",
   "metadata": {},
   "source": [
    "** \\[Q2 answer\\] **\n",
    "..."
   ]
  },
  {
   "cell_type": "markdown",
   "metadata": {},
   "source": [
    "**Q3. _\\[5 points\\]_** Based on your table above, please construct a dataframe, name it as **df1**. The index of all the subject must be an integer (aka: a number)."
   ]
  },
  {
   "cell_type": "code",
   "execution_count": null,
   "metadata": {},
   "outputs": [],
   "source": [
    "# Q3. Answer\n"
   ]
  },
  {
   "cell_type": "markdown",
   "metadata": {},
   "source": [
    "**Q4. _\\[5 points\\]_** Based on the table from Q2, please construct a dataframe, name it as **df2**. The index of this dataframe shall be name of the subject name, not an integer."
   ]
  },
  {
   "cell_type": "code",
   "execution_count": null,
   "metadata": {},
   "outputs": [],
   "source": [
    "# Q4. Answer"
   ]
  },
  {
   "cell_type": "markdown",
   "metadata": {},
   "source": [
    "**Q5. _\\[5 points\\]_** Give a \"flights\" dataset.  \n",
    "> flights = pd.read_csv('./flights.csv')\n",
    "\n",
    "---\n",
    "Columns:\n",
    "\n",
    "---\n",
    "\n",
    "year month day : the date of the flight\n",
    "\n",
    "dep_delay : departre dep_delay\n",
    "\n",
    "arr_time : arrival time \n",
    "\n",
    "arr_delay : arrival delay\n",
    "\n",
    "carrier\t: The symbol of the airline \n",
    "\n",
    "tailnum\t: Tail number of the plane\n",
    "\n",
    "flight : the flight number\n",
    "\n",
    "origin : the code of the origin airport \n",
    "\n",
    "dest : the code of the destination airport\t\n",
    "\n",
    "air_time : the time of the flight\n",
    "\n",
    "distance : of the flight\n",
    "\n",
    "hour : the hour that the plane departs the origin airport\n",
    "\n",
    "minute : the minute that the plane departs the origin airport\n",
    "\n",
    "---\n",
    "\n",
    "\n",
    "Create a dataframe df3 by subseting the following columns to be in this new dataframe: \"dep_delay\",\"arr_time\",\"arr_delay\",\"carrier\",\"tailnum\",\"flight\",\"origin\",\"dest\",\"air_time\",\"distance\" (be as efficient as possible)."
   ]
  },
  {
   "cell_type": "code",
   "execution_count": 2,
   "metadata": {},
   "outputs": [],
   "source": [
    "# Q5\n",
    "flights = pd.read_csv('./flights.csv')"
   ]
  },
  {
   "cell_type": "markdown",
   "metadata": {},
   "source": [
    "**Q6. _\\[5 points\\]_** Subset the first 15 rows front flights into df3."
   ]
  },
  {
   "cell_type": "code",
   "execution_count": 2,
   "metadata": {},
   "outputs": [],
   "source": [
    "# Q6. Answer"
   ]
  },
  {
   "cell_type": "markdown",
   "metadata": {},
   "source": [
    "**Q7. _\\[5 points\\]_** Subset all the rows form the flights dataframe into df4 except the first 100 rows and the last 100 rows."
   ]
  },
  {
   "cell_type": "code",
   "execution_count": 6,
   "metadata": {},
   "outputs": [],
   "source": [
    "# Q7. Answer"
   ]
  },
  {
   "cell_type": "markdown",
   "metadata": {},
   "source": [
    "**Q8. _\\[5 points\\]_** From the flights dataframe, subset only rows where the carrier (aka: airline) is AA. Assign the answer to a dataframe **df5**."
   ]
  },
  {
   "cell_type": "code",
   "execution_count": 3,
   "metadata": {},
   "outputs": [],
   "source": [
    "#Q8. Answer"
   ]
  },
  {
   "cell_type": "markdown",
   "metadata": {},
   "source": [
    "**Q9. _\\[10 points\\]_** From the flights dataframe, use seaborn to make a plot that shows number of flights each carrier (each airline) has. Please make sure that the plot is complete (concise and clear with all necessary labels/title).\n"
   ]
  },
  {
   "cell_type": "code",
   "execution_count": 7,
   "metadata": {},
   "outputs": [],
   "source": [
    "#Q9. Answer"
   ]
  },
  {
   "cell_type": "markdown",
   "metadata": {},
   "source": [
    "**Q10. _\\[10 points\\]_** From the flights dataframe, create(add) a column name \"xval\" to the dataframe where the data is an integer (a number) constructed from concatenating hour to minute.  For example, if hour is 5 and minute is 17, xval shall hold 517 (five hundreds and seventeen)."
   ]
  },
  {
   "cell_type": "code",
   "execution_count": 8,
   "metadata": {},
   "outputs": [],
   "source": [
    "#Q10. Answer"
   ]
  },
  {
   "cell_type": "markdown",
   "metadata": {},
   "source": [
    "**Q11. _\\[10 points\\]_** From the flights dataframe, extract only the first 30 rows and then use seaborn to make a plot. The x axis is the data from column \"xval\" created above. The y axis is the arrival delay (from column: \"arr_delay\"). Each data point on the chart should also indicates what carrier (aka: airline) that data point is."
   ]
  },
  {
   "cell_type": "code",
   "execution_count": null,
   "metadata": {},
   "outputs": [],
   "source": [
    "# Answer 11"
   ]
  },
  {
   "cell_type": "markdown",
   "metadata": {},
   "source": [
    "**Q12. _\\[15 points\\]_** From the flights dataframe, there are some missing values in the hour column. \n",
    "\n",
    "(11.1) \\[10 points\\] Suggest what should we do with the missing values. \n",
    "\n",
    "(11.2) \\[5 points\\] Write a code to handle the missing values."
   ]
  },
  {
   "cell_type": "code",
   "execution_count": 4,
   "metadata": {},
   "outputs": [],
   "source": [
    "# Answer 12.1"
   ]
  },
  {
   "cell_type": "code",
   "execution_count": 10,
   "metadata": {},
   "outputs": [],
   "source": [
    "# Answer 12.2"
   ]
  },
  {
   "cell_type": "markdown",
   "metadata": {},
   "source": [
    "**Q13. _\\[15 points\\]_** Give a \"stocks\" dataset.  \n",
    "> stocks = pd.read_csv('./stocks.csv')\n",
    "\n",
    "This file holds information about some stocks' price yesterday.\n",
    "\n",
    "Write program(code) to process or transform stocks to create a dataframe df6. The df6 dataframe shall have columns SYMBOL and PCCHANGE. PCCHANGE shall show the percent changed from OPEN to CLOSE (with respect to the OPEN price).  For example, if the open price is 100, and it closes at 102.75. The PCCHANGE shall be 2.75. If the open price is 100 and the close price is 99.25, PCCHANGE shall be -0.75.\n",
    "\n",
    "Use Pandnas effectively. Your code shall work even if we have 1,000,000 rows in the stocks.csv."
   ]
  },
  {
   "cell_type": "code",
   "execution_count": null,
   "metadata": {},
   "outputs": [],
   "source": [
    "# Answer 13"
   ]
  }
 ],
 "metadata": {
  "kernelspec": {
   "display_name": "Python 3",
   "language": "python",
   "name": "python3"
  },
  "language_info": {
   "codemirror_mode": {
    "name": "ipython",
    "version": 3
   },
   "file_extension": ".py",
   "mimetype": "text/x-python",
   "name": "python",
   "nbconvert_exporter": "python",
   "pygments_lexer": "ipython3",
   "version": "3.7.7"
  }
 },
 "nbformat": 4,
 "nbformat_minor": 2
}
