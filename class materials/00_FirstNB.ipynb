{
 "cells": [
  {
   "cell_type": "markdown",
   "id": "f7b966c4",
   "metadata": {},
   "source": [
    "# Wtf Dude\n",
    "    "
   ]
  },
  {
   "cell_type": "markdown",
   "id": "ad1bb592",
   "metadata": {},
   "source": [
    "# Test"
   ]
  },
  {
   "cell_type": "code",
   "execution_count": null,
   "id": "cbac92ef",
   "metadata": {},
   "outputs": [],
   "source": [
    "# 1+55"
   ]
  },
  {
   "cell_type": "code",
   "execution_count": 9,
   "id": "1f520c4d",
   "metadata": {},
   "outputs": [
    {
     "data": {
      "text/plain": [
       "3"
      ]
     },
     "execution_count": 9,
     "metadata": {},
     "output_type": "execute_result"
    }
   ],
   "source": [
    "3*1"
   ]
  },
  {
   "cell_type": "code",
   "execution_count": 10,
   "id": "2eb33318",
   "metadata": {
    "scrolled": true
   },
   "outputs": [
    {
     "data": {
      "text/plain": [
       "9"
      ]
     },
     "execution_count": 10,
     "metadata": {},
     "output_type": "execute_result"
    }
   ],
   "source": [
    "5+4"
   ]
  },
  {
   "cell_type": "code",
   "execution_count": 11,
   "id": "5d75953e",
   "metadata": {},
   "outputs": [
    {
     "data": {
      "text/plain": [
       "7"
      ]
     },
     "execution_count": 11,
     "metadata": {},
     "output_type": "execute_result"
    }
   ],
   "source": [
    "5+2"
   ]
  },
  {
   "cell_type": "code",
   "execution_count": 12,
   "id": "37166ef0",
   "metadata": {},
   "outputs": [],
   "source": [
    "# This is my Demo"
   ]
  },
  {
   "cell_type": "markdown",
   "id": "377db2c0",
   "metadata": {},
   "source": [
    "##Doing balbkaslkfhdsf"
   ]
  },
  {
   "cell_type": "markdown",
   "id": "9e1ba437",
   "metadata": {},
   "source": [
    "Hellofsdf"
   ]
  },
  {
   "cell_type": "raw",
   "id": "e8352b96",
   "metadata": {},
   "source": [
    "This isis sfj"
   ]
  },
  {
   "cell_type": "code",
   "execution_count": 1,
   "id": "f3eeed22",
   "metadata": {},
   "outputs": [
    {
     "data": {
      "text/plain": [
       "10"
      ]
     },
     "execution_count": 1,
     "metadata": {},
     "output_type": "execute_result"
    }
   ],
   "source": [
    "5+5"
   ]
  },
  {
   "cell_type": "markdown",
   "id": "8705e296",
   "metadata": {},
   "source": [
    "Test------TT"
   ]
  },
  {
   "cell_type": "code",
   "execution_count": null,
   "id": "47561867",
   "metadata": {},
   "outputs": [],
   "source": []
  }
 ],
 "metadata": {
  "kernelspec": {
   "display_name": "Python 3 (ipykernel)",
   "language": "python",
   "name": "python3"
  },
  "language_info": {
   "codemirror_mode": {
    "name": "ipython",
    "version": 3
   },
   "file_extension": ".py",
   "mimetype": "text/x-python",
   "name": "python",
   "nbconvert_exporter": "python",
   "pygments_lexer": "ipython3",
   "version": "3.8.11"
  }
 },
 "nbformat": 4,
 "nbformat_minor": 5
}
