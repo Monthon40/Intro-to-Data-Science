{
 "cells": [
  {
   "cell_type": "markdown",
   "metadata": {},
   "source": [
    "# Pracetice Data & String Manipulation"
   ]
  },
  {
   "cell_type": "code",
   "execution_count": 1,
   "metadata": {},
   "outputs": [],
   "source": [
    "import pandas as pd\n",
    "import numpy as np\n",
    "\n",
    "weather = pd.read_csv('./datasets/weather.csv')"
   ]
  },
  {
   "cell_type": "markdown",
   "metadata": {},
   "source": [
    "Given the data in wehater.csv, answer the following questions.\n",
    "\n",
    "(1) What is the highest range of temperature per day.\n",
    "\n",
    "(2) From the available data of the whole year, do you think the first half of the month (day 1 to day 15) have average range more that the later half of the month?\n"
   ]
  },
  {
   "cell_type": "code",
   "execution_count": 2,
   "metadata": {},
   "outputs": [
    {
     "data": {
      "text/plain": [
       "19.599999999999998"
      ]
     },
     "execution_count": 2,
     "metadata": {},
     "output_type": "execute_result"
    }
   ],
   "source": [
    "ttt = pd.melt(weather, id_vars=['id','year','month','element'], var_name = 'day', value_name='temp')\n",
    "weather_tidy = ttt.pivot_table(index=['id','year','month','day'], columns= 'element', values='temp').reset_index()\n",
    "weather_tidy['range'] = weather_tidy['tmax'] - weather_tidy['tmin']\n",
    "column = weather_tidy['range']\n",
    "max(column)\n"
   ]
  },
  {
   "cell_type": "code",
   "execution_count": 4,
   "metadata": {},
   "outputs": [
    {
     "name": "stdout",
     "output_type": "stream",
     "text": [
      "First half: 14.878947368421052\n",
      "Second half: 14.078571428571426\n",
      "Average of first 15 days is more than second half.\n"
     ]
    },
    {
     "name": "stderr",
     "output_type": "stream",
     "text": [
      "C:\\Users\\uSeR\\AppData\\Local\\Temp/ipykernel_14488/3879700767.py:5: FutureWarning: Boolean inputs to the `inclusive` argument are deprecated infavour of `both` or `neither`.\n",
      "  count1 = weather_tidy['date'].between(0, 16, inclusive=False).sum()\n",
      "C:\\Users\\uSeR\\AppData\\Local\\Temp/ipykernel_14488/3879700767.py:7: FutureWarning: Boolean inputs to the `inclusive` argument are deprecated infavour of `both` or `neither`.\n",
      "  count2 = weather_tidy['date'].between(15, 32, inclusive=False).sum()\n"
     ]
    }
   ],
   "source": [
    "variable_split = weather_tidy.day.str.split('d')\n",
    "weather_tidy['date'] = variable_split.str.get(1)\n",
    "weather_tidy['date'] = weather_tidy['date'].astype(int)\n",
    "weather_tidy = weather_tidy.sort_values('date')\n",
    "count1 = weather_tidy['date'].between(0, 16, inclusive=False).sum()\n",
    "fh = weather_tidy['range'].head(count1).mean()\n",
    "count2 = weather_tidy['date'].between(15, 32, inclusive=False).sum()\n",
    "sh = weather_tidy['range'].tail(count2).mean()\n",
    "print(\"First half:\", fh)\n",
    "print(\"Second half:\", sh)\n",
    "if(fh > sh):\n",
    "    print(\"Average of first 15 days is more than second half.\")\n",
    "else:\n",
    "     print(\"Average of second half is more than first half\")\n"
   ]
  }
 ],
 "metadata": {
  "interpreter": {
   "hash": "6bcc8282a6c303b6ee86c7e0d9a43121f90860270f44aee589454620e8cc1f45"
  },
  "kernelspec": {
   "display_name": "Python 3.8.11 64-bit ('iccs161 ver2': conda)",
   "name": "python3"
  },
  "language_info": {
   "codemirror_mode": {
    "name": "ipython",
    "version": 3
   },
   "file_extension": ".py",
   "mimetype": "text/x-python",
   "name": "python",
   "nbconvert_exporter": "python",
   "pygments_lexer": "ipython3",
   "version": "3.8.11"
  },
  "orig_nbformat": 2
 },
 "nbformat": 4,
 "nbformat_minor": 2
}
