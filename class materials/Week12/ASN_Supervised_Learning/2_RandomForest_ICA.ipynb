{
 "metadata": {
  "language_info": {
   "codemirror_mode": {
    "name": "ipython",
    "version": 3
   },
   "file_extension": ".py",
   "mimetype": "text/x-python",
   "name": "python",
   "nbconvert_exporter": "python",
   "pygments_lexer": "ipython3",
   "version": "3.8.2-final"
  },
  "orig_nbformat": 2,
  "kernelspec": {
   "name": "python3",
   "display_name": "Python 3"
  }
 },
 "nbformat": 4,
 "nbformat_minor": 2,
 "cells": [
  {
   "source": [
    "# Random Forest\n",
    "## Tasks:\n",
    "1. Create a decision tree classifier to predict that the passenger (from the titanic datset) will survive or not.\n",
    "2. Evaluate performance of the decision tree\n",
    "3. Visual the decision tree\n",
    "4. Use random forest to create a classifier to predict that a person will survive in the titanic accident or not. \n",
    "5. Evaluate the results. (the datafile is titanic.csv)."
   ],
   "cell_type": "markdown",
   "metadata": {}
  },
  {
   "cell_type": "code",
   "execution_count": null,
   "metadata": {},
   "outputs": [],
   "source": []
  }
 ]
}