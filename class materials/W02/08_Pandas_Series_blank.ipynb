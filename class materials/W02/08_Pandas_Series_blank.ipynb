{
 "metadata": {
  "language_info": {
   "codemirror_mode": {
    "name": "ipython",
    "version": 3
   },
   "file_extension": ".py",
   "mimetype": "text/x-python",
   "name": "python",
   "nbconvert_exporter": "python",
   "pygments_lexer": "ipython3",
   "version": "3.8.11"
  },
  "orig_nbformat": 2,
  "kernelspec": {
   "name": "python3",
   "display_name": "Python 3.8.11 64-bit ('iccs161 ver2': conda)"
  },
  "interpreter": {
   "hash": "6bcc8282a6c303b6ee86c7e0d9a43121f90860270f44aee589454620e8cc1f45"
  }
 },
 "nbformat": 4,
 "nbformat_minor": 2,
 "cells": [
  {
   "cell_type": "markdown",
   "source": [
    "# Pandas - Series\n",
    "## TOPICS:\n",
    "1. What is Pandas?\n",
    "2. Installation\n",
    "3. Series\n",
    "* 3.1 CREATE\n",
    "* 3.2 READ\n",
    "* 3.3 UPDATE\n",
    "* 3.4 DELETE\n",
    "4. Operations with Series\n",
    "5. A first look at DataFrame (There will be more detail in a dedicated notebook about a dataframe.)\n",
    "\n",
    "\n",
    "\n"
   ],
   "metadata": {}
  },
  {
   "cell_type": "markdown",
   "source": [
    "## 1. What is Pandas?\n",
    "\n",
    "As you may guess that Pandas is very important. \n",
    "\n",
    "What is the name of the course main textbook? \n",
    "\n",
    "Answer: **Pandas for Everyone**, Daniel Y. Chen\n",
    "\n",
    "* A library to help us deal with data.\n",
    "* It also utilizes NumPy underneath.\n",
    "* Some key parts in Pandas were inspired by R features (such as a data frame)\n",
    "* We can use pandas to import data from various file format.\n",
    "* We can use it for visualization.\n",
    "* It is an open source project library."
   ],
   "metadata": {}
  },
  {
   "cell_type": "markdown",
   "source": [
    "## 2. Installation\n",
    "Exactly the same process as installing NumPy. However, this time, we search for **pandas**.\n",
    "![Install Pandas](assets/InstallPandas1.png)\n",
    "\n",
    "Now,click **Apply** \n",
    "\n",
    "_Note: You may see a longer list than this._\n",
    "\n",
    "![Install Pandas](assets/InstallPandas2.png)\n",
    "\n"
   ],
   "metadata": {}
  },
  {
   "cell_type": "markdown",
   "source": [
    "** Import **\n",
    "Very similar to what we did with NumPy. Let's import both of them"
   ],
   "metadata": {}
  },
  {
   "cell_type": "code",
   "execution_count": 2,
   "source": [
    "import pandas as pd\r\n",
    "import numpy as np "
   ],
   "outputs": [],
   "metadata": {}
  },
  {
   "cell_type": "markdown",
   "source": [
    "## 3. Series\n",
    "Series is a 1-d array that can hold data and the associated label. We may consider a series as a mixture of **an 1-d array** and **a dictionary**. For most of the parts, a series works like 1-d array. The part that makes it work like a dictionary is that we can access the data by the label. This is very similar to using a key to access the value in dictionary.\n"
   ],
   "metadata": {}
  },
  {
   "cell_type": "code",
   "execution_count": 6,
   "source": [
    "name_list = [\"Tom\", \"Tim\", \"Ted\"]       # a list of strings\r\n",
    "gpa_list = [2.3,2.4,2.5]               # a list of floats\r\n",
    "np_arr = np.array(gpa_list)             # a numpy array\r\n",
    "dct = {\"Tom\":2.3, \"Tim\":2.4, \"Ted\":2.5} # a dictionary "
   ],
   "outputs": [],
   "metadata": {}
  },
  {
   "cell_type": "markdown",
   "source": [
    "### 3.1 CREATE\n",
    "We can create a series from a list."
   ],
   "metadata": {}
  },
  {
   "cell_type": "code",
   "execution_count": 15,
   "source": [
    "pd_s1 = pd.Series( data = gpa_list)\r\n",
    "pd_s1"
   ],
   "outputs": [
    {
     "output_type": "execute_result",
     "data": {
      "text/plain": [
       "0    2.3\n",
       "1    2.4\n",
       "2    2.5\n",
       "dtype: float64"
      ]
     },
     "metadata": {},
     "execution_count": 15
    }
   ],
   "metadata": {}
  },
  {
   "cell_type": "markdown",
   "source": [
    "The each data point can have **a label**. Think about it as an index."
   ],
   "metadata": {}
  },
  {
   "cell_type": "code",
   "execution_count": 8,
   "source": [
    "pd_s2 = pd.Series( data = gpa_list, index = name_list)\r\n",
    "pd_s2"
   ],
   "outputs": [
    {
     "output_type": "execute_result",
     "data": {
      "text/plain": [
       "Tom    2.3\n",
       "Tim    2.4\n",
       "Ted    2.5\n",
       "dtype: float64"
      ]
     },
     "metadata": {},
     "execution_count": 8
    }
   ],
   "metadata": {}
  },
  {
   "cell_type": "markdown",
   "source": [
    "The order of the parameters indicates what they suppose to be. So, the first one is the data points, the second one is the label. Hence we can write it in a shorter way:"
   ],
   "metadata": {}
  },
  {
   "cell_type": "code",
   "execution_count": null,
   "source": [
    "pd_s3 = pd.Series(gpa_list, name_list)\r\n",
    "pd_s3"
   ],
   "outputs": [],
   "metadata": {}
  },
  {
   "cell_type": "markdown",
   "source": [
    "We can also create a series from a NumPy array as well."
   ],
   "metadata": {}
  },
  {
   "cell_type": "code",
   "execution_count": null,
   "source": [
    "pd_s4 = pd.Series(np_arr, name_list)\r\n",
    "pd_s4"
   ],
   "outputs": [],
   "metadata": {}
  },
  {
   "cell_type": "markdown",
   "source": [
    "If we have a dictionary already, we can create a series from a dictionary."
   ],
   "metadata": {}
  },
  {
   "cell_type": "code",
   "execution_count": 13,
   "source": [
    "pd_s5 = pd.Series(dct)\r\n",
    "pd_s5"
   ],
   "outputs": [
    {
     "output_type": "execute_result",
     "data": {
      "text/plain": [
       "Tom    2.3\n",
       "Tim    2.4\n",
       "Ted    2.5\n",
       "dtype: float64"
      ]
     },
     "metadata": {},
     "execution_count": 13
    }
   ],
   "metadata": {}
  },
  {
   "cell_type": "markdown",
   "source": [
    "### 3.2 READ\n",
    "We can access the element by using the label.\n",
    "If we don't specify the label manually. The row number (index) can be used to access the element."
   ],
   "metadata": {}
  },
  {
   "cell_type": "code",
   "execution_count": 9,
   "source": [
    "s6 = pd.Series( [777.7, 888.8, 999.9] )\r\n",
    "print(s6[0])\r\n",
    "print(s6[1])\r\n",
    "print(s6[2])"
   ],
   "outputs": [
    {
     "output_type": "stream",
     "name": "stdout",
     "text": [
      "777.7\n",
      "888.8\n",
      "999.9\n"
     ]
    }
   ],
   "metadata": {
    "tags": []
   }
  },
  {
   "cell_type": "markdown",
   "source": [
    "If we manually set the lable, we can use the label."
   ],
   "metadata": {}
  },
  {
   "cell_type": "code",
   "execution_count": 16,
   "source": [
    "s7 = pd.Series( [22,25,27] , ['Cold','OK','Warm'] )\r\n",
    "print(s7['Cold'])\r\n",
    "print(s7['OK'])\r\n",
    "print(s7['Warm'])"
   ],
   "outputs": [
    {
     "output_type": "stream",
     "name": "stdout",
     "text": [
      "22\n",
      "25\n",
      "27\n"
     ]
    }
   ],
   "metadata": {
    "tags": []
   }
  },
  {
   "cell_type": "markdown",
   "source": [
    "### 3.3 Update\n",
    "* Change existing value\n",
    "* Append new data to a series\n",
    "We can update/change existing value by assigning a new value to it.\n"
   ],
   "metadata": {}
  },
  {
   "cell_type": "code",
   "execution_count": 17,
   "source": [
    "s8 = pd.Series( [22,25,27] , ['Cold','OK','Warm'] )\r\n",
    "s8['Cold']=19\r\n",
    "s8"
   ],
   "outputs": [
    {
     "output_type": "execute_result",
     "data": {
      "text/plain": [
       "Cold    19\n",
       "OK      25\n",
       "Warm    27\n",
       "dtype: int64"
      ]
     },
     "metadata": {},
     "execution_count": 17
    }
   ],
   "metadata": {}
  },
  {
   "cell_type": "markdown",
   "source": [
    "We can also add/append a new value to the series."
   ],
   "metadata": {}
  },
  {
   "cell_type": "code",
   "execution_count": 18,
   "source": [
    "s8['Hot'] = 35\r\n",
    "s8"
   ],
   "outputs": [
    {
     "output_type": "execute_result",
     "data": {
      "text/plain": [
       "Cold    19\n",
       "OK      25\n",
       "Warm    27\n",
       "Hot     35\n",
       "dtype: int64"
      ]
     },
     "metadata": {},
     "execution_count": 18
    }
   ],
   "metadata": {}
  },
  {
   "cell_type": "code",
   "execution_count": 19,
   "source": [
    "s8['Omg'] = -5\r\n",
    "s8"
   ],
   "outputs": [
    {
     "output_type": "execute_result",
     "data": {
      "text/plain": [
       "Cold    19\n",
       "OK      25\n",
       "Warm    27\n",
       "Hot     35\n",
       "Omg     -5\n",
       "dtype: int64"
      ]
     },
     "metadata": {},
     "execution_count": 19
    }
   ],
   "metadata": {}
  },
  {
   "cell_type": "markdown",
   "source": [
    "### 3.4 Delete\n",
    "We can call a drop funtion to remove an item. This function will return **a new series**. **The current one still holds all element.**"
   ],
   "metadata": {}
  },
  {
   "cell_type": "code",
   "execution_count": 20,
   "source": [
    "s9 = pd.Series( [22,25,27] , ['Cold','OK','Warm'] )\r\n",
    "s10 = s9.drop(labels=['Cold','Warm'])\r\n",
    "print(s9)\r\n",
    "print(\"---\")\r\n",
    "print(s10)"
   ],
   "outputs": [
    {
     "output_type": "stream",
     "name": "stdout",
     "text": [
      "Cold    22\n",
      "OK      25\n",
      "Warm    27\n",
      "dtype: int64\n",
      "---\n",
      "OK    25\n",
      "dtype: int64\n"
     ]
    }
   ],
   "metadata": {
    "tags": []
   }
  },
  {
   "cell_type": "markdown",
   "source": [
    "## 4. Operations with Series\n",
    "When we add two series together, pandas will use labels to identify values to be added. \n",
    "Let's start with a simple case when all labels are just the row numbers."
   ],
   "metadata": {}
  },
  {
   "cell_type": "code",
   "execution_count": null,
   "source": [
    "s1 = pd.Series([10,20,30])\r\n",
    "s2 = pd.Series([5,6,7])\r\n",
    "s1+s2"
   ],
   "outputs": [],
   "metadata": {}
  },
  {
   "cell_type": "markdown",
   "source": [
    "Now, let's try to set the labels manually. Notice that pandas doesn't add by the order of the row !!! It adds by matching the label. If there is no matched label, it will return **NaN (not a number)**."
   ],
   "metadata": {}
  },
  {
   "cell_type": "code",
   "execution_count": null,
   "source": [
    "s3 = pd.Series( [10,20,30], ['Coffee','Tea','Coke'])\r\n",
    "s4 = pd.Series( [5,6,7], ['Coffee','Milo','Tea'])\r\n",
    "s3+s4"
   ],
   "outputs": [],
   "metadata": {}
  },
  {
   "cell_type": "markdown",
   "source": [
    "## 5. A first look at DataFrame\n",
    "DataFrame is the main data structure we will use to hold data in the very similar to how Excel hold data."
   ],
   "metadata": {}
  },
  {
   "cell_type": "code",
   "execution_count": null,
   "source": [
    "from numpy.random import rand\r\n",
    "np.random.seed(123)\r\n",
    "\r\n",
    "# Note: rand(4,3) returns a numpy array of random values  (4 rows 3 columns).\r\n",
    "df = pd.DataFrame( rand(4,3) , ['A','B','C','D'], ['m','n','o'] )\r\n",
    "df"
   ],
   "outputs": [],
   "metadata": {}
  },
  {
   "cell_type": "markdown",
   "source": [
    "Looking at the result above, if we look at the first column only, we are seeing something that looks like a series. This gives us a hint that a dataframe seems like a collection of series."
   ],
   "metadata": {}
  },
  {
   "cell_type": "code",
   "execution_count": null,
   "source": [],
   "outputs": [],
   "metadata": {}
  }
 ]
}