{
 "cells": [
  {
   "cell_type": "markdown",
   "metadata": {},
   "source": [
    "# Basic Python for Data Science - 2\n",
    "## Basic Data Structures\n",
    "    When we have many data points, we can store them in various ways. Different methods have pros and cons. Knowing the main ones will allow us to apply the appropriate data structure toward our problem. The topics we will cover here are:\n",
    "\n",
    "    1. List\n",
    "        1.1 CREATE\n",
    "        1.2 READ (access)\n",
    "        1.3 UPDATE (add)\n",
    "        1.4 DELETE (remove)\n",
    "        1.5 Slice\n",
    "    2. Tuple\n",
    "    3. Dictionary\n",
    "    4. Set"
   ]
  },
  {
   "cell_type": "markdown",
   "metadata": {},
   "source": [
    "## 1. List\n",
    "A list is a series (train) of data points. They are connected in order. We can access them by using index. If we think that a list is a train. The train have many cars. Each car holds one data point (one element). We can access any element by using the car number of the train.\n",
    "\n",
    "### 1.1 CREATE\n",
    "\n",
    "We can create a list by putting elements inside [ ]"
   ]
  },
  {
   "cell_type": "code",
   "execution_count": 1,
   "metadata": {},
   "outputs": [
    {
     "output_type": "execute_result",
     "data": {
      "text/plain": [
       "[5, 20, 31.2]"
      ]
     },
     "metadata": {},
     "execution_count": 1
    }
   ],
   "source": [
    "# Create a list using square brackets\n",
    "[5, 20, 31.2]"
   ]
  },
  {
   "cell_type": "markdown",
   "metadata": {},
   "source": [
    "Normally, we will want to access elements inside the list later on. Therefore, we may want to create a list and assign to a variable. _You may want to click the **show variables** icon to see the variable you created._"
   ]
  },
  {
   "cell_type": "code",
   "execution_count": 2,
   "metadata": {},
   "outputs": [],
   "source": [
    "my_list = [5, 20, 31.2]"
   ]
  },
  {
   "cell_type": "markdown",
   "metadata": {},
   "source": [
    "We can have different data types in the same list. "
   ]
  },
  {
   "cell_type": "code",
   "execution_count": 3,
   "metadata": {},
   "outputs": [],
   "source": [
    "my_second_list = [1, \"TWO\", 3.0]"
   ]
  },
  {
   "cell_type": "markdown",
   "metadata": {},
   "source": [
    "We can also have a list inside a list. This is called **a nested list**.\n"
   ]
  },
  {
   "cell_type": "code",
   "execution_count": 4,
   "metadata": {},
   "outputs": [],
   "source": [
    "my_nested_list = [ 1, [ 2.0, 2.1, 2.2, 2.3], 3]"
   ]
  },
  {
   "cell_type": "markdown",
   "metadata": {},
   "source": [
    "### 1.2 READ (access)\n",
    "We can access an element in a list by using an index. The index of the first element is 0. Be careful with this. Human starts counting from 1. However, in Python, the first index is 0."
   ]
  },
  {
   "cell_type": "code",
   "execution_count": 5,
   "metadata": {},
   "outputs": [
    {
     "output_type": "execute_result",
     "data": {
      "text/plain": [
       "'ant'"
      ]
     },
     "metadata": {},
     "execution_count": 5
    }
   ],
   "source": [
    "animals = [ \"ant\", \"bat\", \"cat\", \"dog\", \"elephant\"]\n",
    "animals[0]"
   ]
  },
  {
   "cell_type": "markdown",
   "metadata": {},
   "source": [
    "Can you guess what is animals\\[3\\]?"
   ]
  },
  {
   "cell_type": "code",
   "execution_count": 6,
   "metadata": {},
   "outputs": [
    {
     "output_type": "execute_result",
     "data": {
      "text/plain": [
       "'dog'"
      ]
     },
     "metadata": {},
     "execution_count": 6
    }
   ],
   "source": [
    "animals[3]"
   ]
  },
  {
   "cell_type": "markdown",
   "metadata": {},
   "source": [
    "What would happen the index is beyond the last element?"
   ]
  },
  {
   "cell_type": "code",
   "execution_count": 7,
   "metadata": {},
   "outputs": [
    {
     "output_type": "error",
     "ename": "IndexError",
     "evalue": "list index out of range",
     "traceback": [
      "\u001b[0;31m---------------------------------------------------------------------------\u001b[0m",
      "\u001b[0;31mIndexError\u001b[0m                                Traceback (most recent call last)",
      "\u001b[0;32m<ipython-input-7-94007e45b291>\u001b[0m in \u001b[0;36m<module>\u001b[0;34m\u001b[0m\n\u001b[0;32m----> 1\u001b[0;31m \u001b[0manimals\u001b[0m\u001b[0;34m[\u001b[0m\u001b[0;36m10\u001b[0m\u001b[0;34m]\u001b[0m\u001b[0;34m\u001b[0m\u001b[0;34m\u001b[0m\u001b[0m\n\u001b[0m",
      "\u001b[0;31mIndexError\u001b[0m: list index out of range"
     ]
    }
   ],
   "source": [
    "animals[10]"
   ]
  },
  {
   "cell_type": "markdown",
   "metadata": {},
   "source": [
    "When the index is out of range, we will get an error message. How can we know how many elements the list has? We can use a function **len\\(the_list\\)**. This function will return a number of elements.\n"
   ]
  },
  {
   "cell_type": "code",
   "execution_count": 8,
   "metadata": {},
   "outputs": [
    {
     "output_type": "execute_result",
     "data": {
      "text/plain": [
       "5"
      ]
     },
     "metadata": {},
     "execution_count": 8
    }
   ],
   "source": [
    "len(animals)"
   ]
  },
  {
   "cell_type": "markdown",
   "metadata": {},
   "source": [
    "**BE CAREFUL !!!**\n",
    "If the lest has 5 elements. Therefore, you can use the index as 0,1,2,3,4.  If you use 5, it is out or range already !!!\n",
    "\n",
    "_Tips: The last element has index **len\\(the_list\\) - 1** _"
   ]
  },
  {
   "cell_type": "code",
   "execution_count": 9,
   "metadata": {},
   "outputs": [
    {
     "output_type": "execute_result",
     "data": {
      "text/plain": [
       "'elephant'"
      ]
     },
     "metadata": {},
     "execution_count": 9
    }
   ],
   "source": [
    "last_animal = animals[ len(animals) - 1 ]\n",
    "last_animal"
   ]
  },
  {
   "cell_type": "markdown",
   "metadata": {},
   "source": [
    "Another way to access the last element is using an index as -1.  If we would imaging a list (a train) as a circle, the last car would be the left of the first car. Since the first car has index as 0. The left to that car will be one less. So, 0-1 is -1. Therefore, we can access by usinga negative number as well.\n"
   ]
  },
  {
   "cell_type": "code",
   "execution_count": 10,
   "metadata": {},
   "outputs": [
    {
     "output_type": "execute_result",
     "data": {
      "text/plain": [
       "'elephant'"
      ]
     },
     "metadata": {},
     "execution_count": 10
    }
   ],
   "source": [
    "animals[-1]"
   ]
  },
  {
   "cell_type": "markdown",
   "metadata": {},
   "source": [
    "## 1.3 Update\n",
    "We can add an element to the end of the list by using the function **append( an_element )** on the list.\n",
    "\n"
   ]
  },
  {
   "cell_type": "code",
   "execution_count": 11,
   "metadata": {},
   "outputs": [],
   "source": [
    "my_growing_list = [1,2,3]"
   ]
  },
  {
   "cell_type": "code",
   "execution_count": 12,
   "metadata": {},
   "outputs": [
    {
     "output_type": "execute_result",
     "data": {
      "text/plain": [
       "[1, 2, 3, 4]"
      ]
     },
     "metadata": {},
     "execution_count": 12
    }
   ],
   "source": [
    "my_growing_list.append(4)\n",
    "my_growing_list"
   ]
  },
  {
   "cell_type": "markdown",
   "metadata": {},
   "source": [
    "We can also append a list to a list. Note, append will add one more element to the list. In this case, the added element is a list."
   ]
  },
  {
   "cell_type": "code",
   "execution_count": 13,
   "metadata": {},
   "outputs": [
    {
     "output_type": "execute_result",
     "data": {
      "text/plain": [
       "[1, 2, 3, 4, [5, 6, 7]]"
      ]
     },
     "metadata": {},
     "execution_count": 13
    }
   ],
   "source": [
    "my_growing_list = [1,2,3,4]\n",
    "z = [5,6,7]\n",
    "my_growing_list.append(z)\n",
    "my_growing_list"
   ]
  },
  {
   "cell_type": "markdown",
   "metadata": {},
   "source": [
    "Can you guess if we call len(my_growing_list), what should be the length of it?\n",
    "We shall get 5, since we add one more element to the list of length 4.\n",
    "\n"
   ]
  },
  {
   "cell_type": "code",
   "execution_count": 14,
   "metadata": {},
   "outputs": [
    {
     "output_type": "execute_result",
     "data": {
      "text/plain": [
       "5"
      ]
     },
     "metadata": {},
     "execution_count": 14
    }
   ],
   "source": [
    "len(my_growing_list)"
   ]
  },
  {
   "cell_type": "markdown",
   "metadata": {},
   "source": [
    "**What about if we want to join (concatenate) two lists together?** We can use + operator."
   ]
  },
  {
   "cell_type": "code",
   "execution_count": 15,
   "metadata": {},
   "outputs": [
    {
     "output_type": "execute_result",
     "data": {
      "text/plain": [
       "[1, 2, 3, 4, 5, 6]"
      ]
     },
     "metadata": {},
     "execution_count": 15
    }
   ],
   "source": [
    "a = [1,2,3]\n",
    "b = [4,5,6]\n",
    "c = a + b\n",
    "c"
   ]
  },
  {
   "cell_type": "markdown",
   "metadata": {},
   "source": [
    "## 1.4 Delete \n",
    "We can remove an element by calling **remove( the_element )**. Python will remove **the first** element that matches the given value."
   ]
  },
  {
   "cell_type": "code",
   "execution_count": 16,
   "metadata": {},
   "outputs": [
    {
     "output_type": "execute_result",
     "data": {
      "text/plain": [
       "[33, 55, 66, 77, 44]"
      ]
     },
     "metadata": {},
     "execution_count": 16
    }
   ],
   "source": [
    "the_list = [33, 44, 55, 66, 77,44]\n",
    "the_list.remove(44)\n",
    "the_list"
   ]
  },
  {
   "cell_type": "markdown",
   "metadata": {},
   "source": [
    "There is another function called **pop(index)** that will remove an element at the specified index. \n",
    "\n",
    "_Note: Don't forget that the index starts from 0._"
   ]
  },
  {
   "cell_type": "code",
   "execution_count": 17,
   "metadata": {},
   "outputs": [
    {
     "output_type": "execute_result",
     "data": {
      "text/plain": [
       "[33, 44, 66, 77, 44]"
      ]
     },
     "metadata": {},
     "execution_count": 17
    }
   ],
   "source": [
    "the_list = [33, 44, 55, 66, 77,44]\n",
    "the_list.pop(2)\n",
    "the_list"
   ]
  },
  {
   "cell_type": "markdown",
   "metadata": {},
   "source": [
    "## 1.5 Slice\n",
    "We can slice the list to have only the desired portion. We will use indexes to slice the list.\n",
    "\n",
    "the_list[ starting_at_index : to_one_before_this_index ]"
   ]
  },
  {
   "cell_type": "code",
   "execution_count": 18,
   "metadata": {},
   "outputs": [
    {
     "output_type": "execute_result",
     "data": {
      "text/plain": [
       "[111, 222, 333, 444, 555, 666, 777, 888]"
      ]
     },
     "metadata": {},
     "execution_count": 18
    }
   ],
   "source": [
    "the_list = [111,222,333,444,555,666,777,888]\n",
    "the_list[0:3] # We will have elements from index 0 to 2 \n",
    "the_list"
   ]
  },
  {
   "cell_type": "code",
   "execution_count": 19,
   "metadata": {},
   "outputs": [
    {
     "output_type": "execute_result",
     "data": {
      "text/plain": [
       "[111, 222, 333, 444, 555, 666, 777, 888]"
      ]
     },
     "metadata": {},
     "execution_count": 19
    }
   ],
   "source": [
    "the_list = [111,222,333,444,555,666,777,888]\n",
    "the_list[2:6] # We will have elements from index 2 to 5 \n",
    "the_list"
   ]
  },
  {
   "cell_type": "markdown",
   "metadata": {},
   "source": [
    "**String** is actually a list of characters. Therefore, we can slice to get only the part that we want.\n"
   ]
  },
  {
   "cell_type": "code",
   "execution_count": 20,
   "metadata": {},
   "outputs": [
    {
     "output_type": "execute_result",
     "data": {
      "text/plain": [
       "'less'"
      ]
     },
     "metadata": {},
     "execution_count": 20
    }
   ],
   "source": [
    "my_motto = \"Have less & be more.\"\n",
    "my_motto[5:9]"
   ]
  },
  {
   "cell_type": "markdown",
   "metadata": {},
   "source": [
    "** If we want to start from the beginning, we can omit the first index.**\n",
    "\n",
    "** If we want to go til the end of the list, we can omit the second index.**\n"
   ]
  },
  {
   "cell_type": "code",
   "execution_count": 21,
   "metadata": {},
   "outputs": [
    {
     "output_type": "execute_result",
     "data": {
      "text/plain": [
       "'Have'"
      ]
     },
     "metadata": {},
     "execution_count": 21
    }
   ],
   "source": [
    "my_motto = \"Have less & be more.\"\n",
    "my_motto[:4]"
   ]
  },
  {
   "cell_type": "code",
   "execution_count": 22,
   "metadata": {},
   "outputs": [
    {
     "output_type": "execute_result",
     "data": {
      "text/plain": [
       "'more.'"
      ]
     },
     "metadata": {},
     "execution_count": 22
    }
   ],
   "source": [
    "my_motto = \"Have less & be more.\"\n",
    "my_motto[15:]"
   ]
  },
  {
   "cell_type": "markdown",
   "metadata": {},
   "source": [
    "If you want from the first to the last, we can omit both!"
   ]
  },
  {
   "cell_type": "code",
   "execution_count": 23,
   "metadata": {},
   "outputs": [
    {
     "output_type": "execute_result",
     "data": {
      "text/plain": [
       "'Have less & be more.'"
      ]
     },
     "metadata": {},
     "execution_count": 23
    }
   ],
   "source": [
    "my_motto = \"Have less & be more.\"\n",
    "my_motto[:]\n"
   ]
  },
  {
   "cell_type": "markdown",
   "metadata": {},
   "source": [
    "### Practice with slicing\n",
    "Give the following list, try to slice to get the shown"
   ]
  },
  {
   "cell_type": "code",
   "execution_count": 24,
   "metadata": {},
   "outputs": [],
   "source": [
    "the_list = [11,22,33,44,55,66,77,88,99]\n",
    "\n",
    "prac1 = the_list[1:3] # set BOTH indexes into the blackets to get [22,33]\n",
    "assert prac1 == [22,33]"
   ]
  },
  {
   "cell_type": "code",
   "execution_count": 25,
   "metadata": {},
   "outputs": [],
   "source": [
    "the_list = [11,22,33,44,55,66,77,88,99]\n",
    "\n",
    "prac2 = the_list[0:1] # set BOTH indexes into the blackets to get [11]\n",
    "assert prac2 == [11]"
   ]
  },
  {
   "cell_type": "code",
   "execution_count": 26,
   "metadata": {},
   "outputs": [],
   "source": [
    "the_list = [11,22,33,44,55,66,77,88,99]\n",
    "\n",
    "prac3 = the_list[:4] # set ONE index into the brackets to get [11,22,33,44]\n",
    "assert prac3 == [11,22,33,44]"
   ]
  },
  {
   "cell_type": "code",
   "execution_count": 27,
   "metadata": {},
   "outputs": [],
   "source": [
    "the_list = [11,22,33,44,55,66,77,88,99]\n",
    "\n",
    "prac4 = the_list[7:] # set ONE index into the brackets to get [88,99]\n",
    "assert prac4 == [88,99]"
   ]
  },
  {
   "cell_type": "code",
   "execution_count": 28,
   "metadata": {},
   "outputs": [],
   "source": [
    "the_list = [11,22,33,44,55,66,77,88,99]\n",
    "\n",
    "prac5 = the_list[-2:] # set ONE NEGATIVE index into the brackets to get [88,99]\n",
    "assert prac5 == [88,99]"
   ]
  },
  {
   "cell_type": "markdown",
   "metadata": {},
   "source": [
    "## 2. Tuple\n",
    "Tuple is very similar to a list. However, a tuple cannot be modified. It is used for data that will never change. A tuple can be creatd with ( ). To access an element in a tuple, we can use index in the same manner as the list."
   ]
  },
  {
   "cell_type": "code",
   "execution_count": 29,
   "metadata": {},
   "outputs": [
    {
     "output_type": "execute_result",
     "data": {
      "text/plain": [
       "'Mon'"
      ]
     },
     "metadata": {},
     "execution_count": 29
    }
   ],
   "source": [
    "my_tuple = (\"Mon\", \"Tue\", \"Wed\", \"Th\", \"Fri\", \"Sat\", \"Sun\")\n",
    "my_tuple[0]"
   ]
  },
  {
   "cell_type": "code",
   "execution_count": 30,
   "metadata": {},
   "outputs": [
    {
     "output_type": "execute_result",
     "data": {
      "text/plain": [
       "('Wed', 'Th', 'Fri')"
      ]
     },
     "metadata": {},
     "execution_count": 30
    }
   ],
   "source": [
    "my_tuple = (\"Mon\", \"Tue\", \"Wed\", \"Th\", \"Fri\", \"Sat\", \"Sun\")\n",
    "my_tuple[2:5]"
   ]
  },
  {
   "cell_type": "markdown",
   "metadata": {},
   "source": [
    "## 3. Dictionary\n",
    "A dictionary is a data structure that can store pairs of key and value. We can create a dictionary using { }.\n",
    "Inside {}, we can have many pairs of key : value.\n",
    "\n",
    "We can access the value by specifying the key."
   ]
  },
  {
   "cell_type": "code",
   "execution_count": 31,
   "metadata": {},
   "outputs": [
    {
     "output_type": "execute_result",
     "data": {
      "text/plain": [
       "'tom'"
      ]
     },
     "metadata": {},
     "execution_count": 31
    }
   ],
   "source": [
    "the_dictionary = {\n",
    "    \"id\" : 6581234,\n",
    "    \"major\" : \"Data Science\",\n",
    "    \"nickname\" : \"tom\"\n",
    "}\n",
    "\n",
    "the_dictionary[\"nickname\"]"
   ]
  },
  {
   "cell_type": "markdown",
   "metadata": {},
   "source": [
    "We can add another pair to the dictionary. "
   ]
  },
  {
   "cell_type": "code",
   "execution_count": 32,
   "metadata": {},
   "outputs": [
    {
     "output_type": "execute_result",
     "data": {
      "text/plain": [
       "'cycling'"
      ]
     },
     "metadata": {},
     "execution_count": 32
    }
   ],
   "source": [
    "the_dictionary = {\n",
    "    \"id\" : 6581234,\n",
    "    \"major\" : \"Data Science\",\n",
    "    \"nickname\" : \"tom\"\n",
    "}\n",
    "\n",
    "the_dictionary[\"club\"] = \"cycling\"\n",
    "the_dictionary[\"club\"]"
   ]
  },
  {
   "cell_type": "markdown",
   "metadata": {},
   "source": [
    "For the key:value pair, the value can be any thing (object).  For example, it can be a list."
   ]
  },
  {
   "cell_type": "code",
   "execution_count": 33,
   "metadata": {},
   "outputs": [
    {
     "output_type": "execute_result",
     "data": {
      "text/plain": [
       "['Dancing', 'Photo', 'Debate']"
      ]
     },
     "metadata": {},
     "execution_count": 33
    }
   ],
   "source": [
    "the_dictionary = {\n",
    "    \"id\" : 6581234,\n",
    "    \"major\" : \"Data Science\",\n",
    "    \"nickname\" : \"tom\",\n",
    "    \"clubs\" : [\"Dancing\", \"Photo\", \"Debate\"]\n",
    "}\n",
    "the_dictionary[\"clubs\"]"
   ]
  },
  {
   "cell_type": "markdown",
   "metadata": {},
   "source": [
    "** We can do more things with the dictionary. Let's wait until we know more about looping and if-else.**"
   ]
  },
  {
   "cell_type": "markdown",
   "metadata": {},
   "source": [
    "# 4. Set\n",
    "A set is like your skills. There is no order. Either it is something you can do, or it is not. "
   ]
  },
  {
   "cell_type": "code",
   "execution_count": 34,
   "metadata": {},
   "outputs": [
    {
     "output_type": "execute_result",
     "data": {
      "text/plain": [
       "{'dance', 'sing', 'swim'}"
      ]
     },
     "metadata": {},
     "execution_count": 34
    }
   ],
   "source": [
    "skills = {\"swim\", \"sing\", \"dance\"}\n",
    "skills"
   ]
  },
  {
   "cell_type": "markdown",
   "metadata": {},
   "source": [
    "We can add new item into the set by calling **.add( item )."
   ]
  },
  {
   "cell_type": "markdown",
   "metadata": {},
   "source": [
    "skills = {\"swim\", \"sing\", \"dance\"}\n",
    "skills.add(\"run\")\n",
    "skills"
   ]
  },
  {
   "cell_type": "code",
   "execution_count": 35,
   "metadata": {},
   "outputs": [
    {
     "output_type": "execute_result",
     "data": {
      "text/plain": [
       "{'dance', 'run', 'sing', 'swim'}"
      ]
     },
     "metadata": {},
     "execution_count": 35
    }
   ],
   "source": [
    "skills = {\"swim\", \"sing\", \"dance\"}\n",
    "skills.add(\"run\")\n",
    "skills"
   ]
  },
  {
   "cell_type": "markdown",
   "metadata": {},
   "source": [
    "We can also test that an item is in a set or not by using command **in**."
   ]
  },
  {
   "cell_type": "code",
   "execution_count": 36,
   "metadata": {},
   "outputs": [
    {
     "output_type": "stream",
     "name": "stdout",
     "text": [
      "True\n"
     ]
    }
   ],
   "source": [
    "skills = {\"swim\", \"sing\", \"dance\"}\n",
    "print( \"swim\" in skills )"
   ]
  },
  {
   "cell_type": "markdown",
   "metadata": {},
   "source": [
    "There are also other things we can do with the set such as **.remove(element)**. Don't worry too much for now. It will be clearer in the future when we get to use it."
   ]
  }
 ],
 "metadata": {
  "kernelspec": {
   "display_name": "Python 3",
   "language": "python",
   "name": "python3"
  },
  "language_info": {
   "codemirror_mode": {
    "name": "ipython",
    "version": 3
   },
   "file_extension": ".py",
   "mimetype": "text/x-python",
   "name": "python",
   "nbconvert_exporter": "python",
   "pygments_lexer": "ipython3",
   "version": "3.8.3-final"
  }
 },
 "nbformat": 4,
 "nbformat_minor": 2
}