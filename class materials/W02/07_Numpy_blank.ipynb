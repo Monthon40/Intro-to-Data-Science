{
 "metadata": {
  "language_info": {
   "codemirror_mode": {
    "name": "ipython",
    "version": 3
   },
   "file_extension": ".py",
   "mimetype": "text/x-python",
   "name": "python",
   "nbconvert_exporter": "python",
   "pygments_lexer": "ipython3",
   "version": "3.8.11"
  },
  "orig_nbformat": 2,
  "kernelspec": {
   "name": "python3",
   "display_name": "Python 3.8.11 64-bit ('iccs161 ver2': conda)"
  },
  "interpreter": {
   "hash": "6bcc8282a6c303b6ee86c7e0d9a43121f90860270f44aee589454620e8cc1f45"
  }
 },
 "nbformat": 4,
 "nbformat_minor": 2,
 "cells": [
  {
   "cell_type": "markdown",
   "source": [
    "# Numpy - the effective way for computation\n",
    "## TOPICS:\n",
    "\n",
    "1. What is NumPy?\n",
    "    * 1.1 NumPy Arrays\n",
    "        * 1-d array\n",
    "        * 2-d array  \n",
    "2. Installing NumPy\n",
    "3. CRUD\n",
    "    * 3.1 CREATE\n",
    "    * 3.2 READ\n",
    "    * 3.3 UPDATE\n",
    "    * 3.4 DELETE\n",
    "4. Some useful functions\n",
    "5. Operations with matrices"
   ],
   "metadata": {}
  },
  {
   "cell_type": "markdown",
   "source": [
    "## 1. What is NumPy?\n",
    ">NumPy is the fundamental package for scientific computing in Python. It is a Python library that provides a multidimensional array object, various derived objects (such as masked arrays and matrices), and an assortment of routines for fast operations on arrays, including mathematical, logical, shape manipulation, sorting, selecting, I/O, discrete Fourier transforms, basic linear algebra, basic statistical operations, random simulation and much more. - NumPy.org\n",
    "\n",
    "The key characteristics of NumPy:\n",
    "* NumPy arrays have a fixed size (unlike list Python that you can append)\n",
    "* All elements must be the same type ( cannot mix type like list in Python)\n",
    "\n",
    "**It sounds very limited, what should we use it?**\n",
    "\n",
    "Answer: **It is fast!** In data science we have to deal with a lot of data points. If the underlying data structures are slow, it will significantly affect the performance.\n",
    "\n",
    "**How will we use NumPy in this course?**\n",
    "\n",
    "We will use NumPy arrays:\n",
    "\n",
    "* Vector : 1-d array\n",
    "* Matric : 2-d array"
   ],
   "metadata": {}
  },
  {
   "cell_type": "markdown",
   "source": [
    "## 2. Installing NumPy\n",
    "Open (go back to) Anaconda Navigator, select the environment that you want to use. If you never create any new environment, select **base(root)**. You will see a list of installed packages. Change that to **All**. Now, type **numpy** into the search box. We should see something like this:\n",
    "\n",
    "![InstallNumPy1](assets/InstallNumPy1.png)\n",
    "\n",
    "Click **numpy** , in this case, the version is 1.9.3. Click **Apply**.\n",
    "![InstallNumPy2](assets/InstallNumPy2.png)\n",
    "\n",
    "Now, we will see the details. What packages will be installed. Click **Apply** and then wait a little while..\n",
    "![InstallNumPy3](assets/InstallNumPy3.png)\n"
   ],
   "metadata": {}
  },
  {
   "cell_type": "markdown",
   "source": [
    "## 1.1 NumPy Arrays\n",
    "To create NumPy Arrays, we need to import it first\n",
    "\n",
    "_Note: It is a convention to give a shorter name to the library. Here, we use **np** as the nickname of it._"
   ],
   "metadata": {}
  },
  {
   "cell_type": "code",
   "execution_count": 1,
   "source": [
    "import numpy as np"
   ],
   "outputs": [],
   "metadata": {}
  },
  {
   "cell_type": "markdown",
   "source": [
    "### 1-d array\n",
    "Now, we can create a NumPy array. We can by using data from a list."
   ],
   "metadata": {}
  },
  {
   "cell_type": "code",
   "execution_count": 2,
   "source": [
    "my_list = [11,13,15]\r\n",
    "np.array(my_list)"
   ],
   "outputs": [
    {
     "output_type": "execute_result",
     "data": {
      "text/plain": [
       "array([11, 13, 15])"
      ]
     },
     "metadata": {},
     "execution_count": 2
    }
   ],
   "metadata": {}
  },
  {
   "cell_type": "markdown",
   "source": [
    "We just create a 1-d array (vector). Let's assign that to a variable. We can get the dimension of our array by calling **.shape** and then we will get a tuple where the elements are the dimentions."
   ],
   "metadata": {}
  },
  {
   "cell_type": "code",
   "execution_count": 3,
   "source": [
    "my_list = [11,13,15]\r\n",
    "x = np.array(my_list)\r\n",
    "x.shape"
   ],
   "outputs": [
    {
     "output_type": "execute_result",
     "data": {
      "text/plain": [
       "(3,)"
      ]
     },
     "metadata": {},
     "execution_count": 3
    }
   ],
   "metadata": {}
  },
  {
   "cell_type": "markdown",
   "source": [
    "**We can access the element by using an index.**  Note: Index start at 0."
   ],
   "metadata": {}
  },
  {
   "cell_type": "code",
   "execution_count": 4,
   "source": [
    "x[1]"
   ],
   "outputs": [
    {
     "output_type": "execute_result",
     "data": {
      "text/plain": [
       "13"
      ]
     },
     "metadata": {},
     "execution_count": 4
    }
   ],
   "metadata": {}
  },
  {
   "cell_type": "markdown",
   "source": [
    "Using 3rd libralies bring new data structures into Python. It is a good idea to see what data structure we are using. We can call **type(varible)** to see the data type."
   ],
   "metadata": {}
  },
  {
   "cell_type": "code",
   "execution_count": 5,
   "source": [
    "type(x)"
   ],
   "outputs": [
    {
     "output_type": "execute_result",
     "data": {
      "text/plain": [
       "numpy.ndarray"
      ]
     },
     "metadata": {},
     "execution_count": 5
    }
   ],
   "metadata": {}
  },
  {
   "cell_type": "markdown",
   "source": [
    "Note, type of the N-dimensional array is **ndarray**.\n",
    "The ndarray has a property **shape** that holds the tuple. Length of the tuple indicates **N**, the dimension of the array.\n",
    "\n",
    "Since we just make a 1-d array, length of the tuple is 1."
   ],
   "metadata": {}
  },
  {
   "cell_type": "code",
   "execution_count": 6,
   "source": [
    "type(x.shape) # this shall be a tuple\r\n",
    "len(x.shape) # this will show length of the tuple"
   ],
   "outputs": [
    {
     "output_type": "execute_result",
     "data": {
      "text/plain": [
       "1"
      ]
     },
     "metadata": {},
     "execution_count": 6
    }
   ],
   "metadata": {}
  },
  {
   "cell_type": "markdown",
   "source": [
    "A quick reminder about tuple.\n"
   ],
   "metadata": {}
  },
  {
   "cell_type": "code",
   "execution_count": null,
   "source": [
    "a = (3,4)\r\n",
    "type(a) # this shall be a tuple\r\n",
    "len(a) # this shall be 2"
   ],
   "outputs": [],
   "metadata": {}
  },
  {
   "cell_type": "markdown",
   "source": [
    "### 2-d array\n",
    "In the same manner with creating a 1-d array in NumPy, we can create a 2-d array by using data from a list.\n",
    "\n",
    "First, we create a list of lists.\n",
    "\n",
    "```my_2d_list = [ ? , ? , ? ]```\n",
    "\n",
    "Each ? is also a list.\n"
   ],
   "metadata": {}
  },
  {
   "cell_type": "code",
   "execution_count": 9,
   "source": [
    "my_2d_list = [ [1,2] , [3,4] , [5,6] ]"
   ],
   "outputs": [],
   "metadata": {}
  },
  {
   "cell_type": "markdown",
   "source": [
    "Now, we can create an array."
   ],
   "metadata": {}
  },
  {
   "cell_type": "code",
   "execution_count": 10,
   "source": [
    "y = np.array(my_2d_list)"
   ],
   "outputs": [],
   "metadata": {}
  },
  {
   "cell_type": "markdown",
   "source": [
    "We can access using index."
   ],
   "metadata": {}
  },
  {
   "cell_type": "code",
   "execution_count": 11,
   "source": [
    "y[2,1]"
   ],
   "outputs": [
    {
     "output_type": "execute_result",
     "data": {
      "text/plain": [
       "6"
      ]
     },
     "metadata": {},
     "execution_count": 11
    }
   ],
   "metadata": {}
  },
  {
   "cell_type": "markdown",
   "source": [
    "### Practice Time ###\n",
    "\n",
    "**Challenge #1**\n",
    "Creat a 2-d array with data as shown.\n",
    "Assign the created array to a variable z\n",
    "![matric](assets/2DMatric.png)"
   ],
   "metadata": {}
  },
  {
   "cell_type": "code",
   "execution_count": 16,
   "source": [
    "my_2d_list = [ [10,20,30,40] , [50,60,70,80] , [90,100,110,120]  ]\r\n",
    "z = np.array(my_2d_list)\r\n",
    "z"
   ],
   "outputs": [
    {
     "output_type": "execute_result",
     "data": {
      "text/plain": [
       "array([[ 10,  20,  30,  40],\n",
       "       [ 50,  60,  70,  80],\n",
       "       [ 90, 100, 110, 120]])"
      ]
     },
     "metadata": {},
     "execution_count": 16
    }
   ],
   "metadata": {}
  },
  {
   "cell_type": "code",
   "execution_count": 17,
   "source": [
    "z[1,3]"
   ],
   "outputs": [
    {
     "output_type": "execute_result",
     "data": {
      "text/plain": [
       "80"
      ]
     },
     "metadata": {},
     "execution_count": 17
    }
   ],
   "metadata": {}
  },
  {
   "cell_type": "markdown",
   "source": [
    "**Challenge #2**\n",
    "Creat a 3-d array with data as shown.\n",
    "Assign the created array to a variable m\n",
    "![matric](assets/3DMatric.png)"
   ],
   "metadata": {}
  },
  {
   "cell_type": "code",
   "execution_count": 20,
   "source": [
    "my_3d_list = [[[1,10,100],[2,20,200],[3,30,300]],[[4,40,400],[5,50,500],[6,60,600]] ]\r\n",
    "m = np.array(my_3d_list)\r\n",
    "m"
   ],
   "outputs": [
    {
     "output_type": "execute_result",
     "data": {
      "text/plain": [
       "array([[[  1,  10, 100],\n",
       "        [  2,  20, 200],\n",
       "        [  3,  30, 300]],\n",
       "\n",
       "       [[  4,  40, 400],\n",
       "        [  5,  50, 500],\n",
       "        [  6,  60, 600]]])"
      ]
     },
     "metadata": {},
     "execution_count": 20
    }
   ],
   "metadata": {}
  },
  {
   "cell_type": "code",
   "execution_count": 21,
   "source": [
    "m[1,1,2]"
   ],
   "outputs": [
    {
     "output_type": "execute_result",
     "data": {
      "text/plain": [
       "500"
      ]
     },
     "metadata": {},
     "execution_count": 21
    }
   ],
   "metadata": {}
  },
  {
   "cell_type": "markdown",
   "source": [
    "## 3. CRUD\n",
    "### 3.1 CREATE\n",
    "We can create a NumPy array from a list."
   ],
   "metadata": {}
  },
  {
   "cell_type": "code",
   "execution_count": null,
   "source": [
    "my_2d_list = [ [1,2] , [3,4] , [5,6] ]\r\n",
    "my_np_arr = np.array(my_2d_list)\r\n",
    "my_np_arr"
   ],
   "outputs": [],
   "metadata": {}
  },
  {
   "cell_type": "markdown",
   "source": [
    "### 3.2 READ\n",
    "We can access the element by using indexes. With the same manner as Python, the index starts from 0."
   ],
   "metadata": {}
  },
  {
   "cell_type": "code",
   "execution_count": null,
   "source": [
    "my_np_arr[2,1] # [ROW,COL]"
   ],
   "outputs": [],
   "metadata": {}
  },
  {
   "cell_type": "markdown",
   "source": [
    "### 3.3 UPDATE\n",
    "1. Change value\n",
    "2. Append data (returning a new array)\n",
    "\n",
    "We can change value by reassigning the new value to the array."
   ],
   "metadata": {}
  },
  {
   "cell_type": "code",
   "execution_count": null,
   "source": [
    "my_np_arr[2,1] = 555\r\n",
    "my_np_arr"
   ],
   "outputs": [],
   "metadata": {}
  },
  {
   "cell_type": "markdown",
   "source": [
    "We can append two arrays together. It will flatten to 1d, join them, and return a **new** array."
   ],
   "metadata": {}
  },
  {
   "cell_type": "code",
   "execution_count": 22,
   "source": [
    "arr1 = np.array( [ [1,2] , [3,4] , [5,6] ] )\r\n",
    "arr2 = np.array( [[7,8]])\r\n",
    "arr3 = np.append(arr1,arr2) # It returns a new array. It doesn't add arr2 to arr1.\r\n",
    "arr3"
   ],
   "outputs": [
    {
     "output_type": "execute_result",
     "data": {
      "text/plain": [
       "array([1, 2, 3, 4, 5, 6, 7, 8])"
      ]
     },
     "metadata": {},
     "execution_count": 22
    }
   ],
   "metadata": {}
  },
  {
   "cell_type": "markdown",
   "source": [
    "Notice that the dimension is not 4 rows 2 columns. We have to reshape this 1-d array to the desired dimension."
   ],
   "metadata": {}
  },
  {
   "cell_type": "code",
   "execution_count": 23,
   "source": [
    "print(arr3.shape) # Will get (8,)\r\n",
    "arr4 = arr3.reshape(4,2) # It doesn't change arr3, but use data to make a new array\r\n",
    "print(arr3)\r\n",
    "print('---')\r\n",
    "print(arr4)"
   ],
   "outputs": [
    {
     "output_type": "stream",
     "name": "stdout",
     "text": [
      "(8,)\n",
      "[1 2 3 4 5 6 7 8]\n",
      "---\n",
      "[[1 2]\n",
      " [3 4]\n",
      " [5 6]\n",
      " [7 8]]\n"
     ]
    }
   ],
   "metadata": {
    "tags": []
   }
  },
  {
   "cell_type": "markdown",
   "source": [
    "### 3.4 DELETE\n",
    "We cannnot delete existing element. NumPy makes a new array without the deleted item.\n",
    "\n",
    "```python\n",
    "np.delete( array, index, axis )\n",
    "```\n",
    "axis 0 is along rows, axis 1 is along the columns"
   ],
   "metadata": {}
  },
  {
   "cell_type": "code",
   "execution_count": 26,
   "source": [
    "arr1 = np.array( [ [1,2] , [3,4] , [5,6] , [7,8]] ) \r\n",
    "# We want to delete the row that has [5,6]. It is row 2. Axis 0\r\n",
    "arr2 = np.delete(arr1,2,0)\r\n",
    "arr2"
   ],
   "outputs": [
    {
     "output_type": "execute_result",
     "data": {
      "text/plain": [
       "array([[1, 2],\n",
       "       [3, 4],\n",
       "       [7, 8]])"
      ]
     },
     "metadata": {},
     "execution_count": 26
    }
   ],
   "metadata": {}
  },
  {
   "cell_type": "code",
   "execution_count": 25,
   "source": [
    "arr1 = np.array( [ [1,2] , [3,4] , [5,6] , [7,8]] ) \r\n",
    "# Now,let's try to delete column that has 2 4 6 8\r\n",
    "# That's index 1, axis 1\r\n",
    "arr3 = np.delete(arr1,1,1)\r\n",
    "arr3"
   ],
   "outputs": [
    {
     "output_type": "execute_result",
     "data": {
      "text/plain": [
       "array([[1],\n",
       "       [3],\n",
       "       [5],\n",
       "       [7]])"
      ]
     },
     "metadata": {},
     "execution_count": 25
    }
   ],
   "metadata": {}
  },
  {
   "cell_type": "markdown",
   "source": [
    "Keep in mind that NumPy arrays don't change. When we modify it, the modified one is the **NEW ARRAY**."
   ],
   "metadata": {}
  },
  {
   "cell_type": "code",
   "execution_count": 24,
   "source": [
    "print(arr1)\r\n",
    "print('---')\r\n",
    "print(arr3)"
   ],
   "outputs": [
    {
     "output_type": "stream",
     "name": "stdout",
     "text": [
      "[[1 2]\n",
      " [3 4]\n",
      " [5 6]]\n",
      "---\n",
      "[1 2 3 4 5 6 7 8]\n"
     ]
    }
   ],
   "metadata": {
    "tags": []
   }
  },
  {
   "cell_type": "markdown",
   "source": [
    "## 4. Some useful functions"
   ],
   "metadata": {}
  },
  {
   "cell_type": "markdown",
   "source": [
    "Create array with elements from START(default is 0) to STOP (exclusive). You can also specify step size."
   ],
   "metadata": {}
  },
  {
   "cell_type": "code",
   "execution_count": 28,
   "source": [
    "arr11 = np.arange(0,10) \r\n",
    "arr11"
   ],
   "outputs": [
    {
     "output_type": "execute_result",
     "data": {
      "text/plain": [
       "array([0, 1, 2, 3, 4, 5, 6, 7, 8, 9])"
      ]
     },
     "metadata": {},
     "execution_count": 28
    }
   ],
   "metadata": {}
  },
  {
   "cell_type": "code",
   "execution_count": 27,
   "source": [
    "arr12 = np.arange(0,10,4)\r\n",
    "arr12"
   ],
   "outputs": [
    {
     "output_type": "execute_result",
     "data": {
      "text/plain": [
       "array([0, 4, 8])"
      ]
     },
     "metadata": {},
     "execution_count": 27
    }
   ],
   "metadata": {}
  },
  {
   "cell_type": "code",
   "execution_count": 29,
   "source": [
    "arr13 = np.zeros(3)\r\n",
    "arr13"
   ],
   "outputs": [
    {
     "output_type": "execute_result",
     "data": {
      "text/plain": [
       "array([0., 0., 0.])"
      ]
     },
     "metadata": {},
     "execution_count": 29
    }
   ],
   "metadata": {}
  },
  {
   "cell_type": "code",
   "execution_count": 30,
   "source": [
    "arr14 = np.zeros((2,3))\r\n",
    "arr14"
   ],
   "outputs": [
    {
     "output_type": "execute_result",
     "data": {
      "text/plain": [
       "array([[0., 0., 0.],\n",
       "       [0., 0., 0.]])"
      ]
     },
     "metadata": {},
     "execution_count": 30
    }
   ],
   "metadata": {}
  },
  {
   "cell_type": "code",
   "execution_count": 31,
   "source": [
    "arr15 = np.ones((4,5))\r\n",
    "arr15"
   ],
   "outputs": [
    {
     "output_type": "execute_result",
     "data": {
      "text/plain": [
       "array([[1., 1., 1., 1., 1.],\n",
       "       [1., 1., 1., 1., 1.],\n",
       "       [1., 1., 1., 1., 1.],\n",
       "       [1., 1., 1., 1., 1.]])"
      ]
     },
     "metadata": {},
     "execution_count": 31
    }
   ],
   "metadata": {}
  },
  {
   "cell_type": "code",
   "execution_count": 32,
   "source": [
    "arr16 = np.identity(3)\r\n",
    "arr16"
   ],
   "outputs": [
    {
     "output_type": "execute_result",
     "data": {
      "text/plain": [
       "array([[1., 0., 0.],\n",
       "       [0., 1., 0.],\n",
       "       [0., 0., 1.]])"
      ]
     },
     "metadata": {},
     "execution_count": 32
    }
   ],
   "metadata": {}
  },
  {
   "cell_type": "code",
   "execution_count": 35,
   "source": [
    "arr17 = np.eye(5)\r\n",
    "arr17"
   ],
   "outputs": [
    {
     "output_type": "execute_result",
     "data": {
      "text/plain": [
       "array([[1., 0., 0., 0., 0.],\n",
       "       [0., 1., 0., 0., 0.],\n",
       "       [0., 0., 1., 0., 0.],\n",
       "       [0., 0., 0., 1., 0.],\n",
       "       [0., 0., 0., 0., 1.]])"
      ]
     },
     "metadata": {},
     "execution_count": 35
    }
   ],
   "metadata": {}
  },
  {
   "cell_type": "code",
   "execution_count": 34,
   "source": [
    "arr18 = np.eye(5,k=1)\r\n",
    "arr18"
   ],
   "outputs": [
    {
     "output_type": "execute_result",
     "data": {
      "text/plain": [
       "array([[0., 1., 0., 0., 0.],\n",
       "       [0., 0., 1., 0., 0.],\n",
       "       [0., 0., 0., 1., 0.],\n",
       "       [0., 0., 0., 0., 1.],\n",
       "       [0., 0., 0., 0., 0.]])"
      ]
     },
     "metadata": {},
     "execution_count": 34
    }
   ],
   "metadata": {}
  },
  {
   "cell_type": "code",
   "execution_count": 33,
   "source": [
    "arr19 = np.random.rand(3,2)\r\n",
    "arr19"
   ],
   "outputs": [
    {
     "output_type": "execute_result",
     "data": {
      "text/plain": [
       "array([[0.53443967, 0.32136812],\n",
       "       [0.45407471, 0.57769355],\n",
       "       [0.88180824, 0.55178093]])"
      ]
     },
     "metadata": {},
     "execution_count": 33
    }
   ],
   "metadata": {}
  },
  {
   "cell_type": "code",
   "execution_count": 36,
   "source": [
    "p = np.random.randint(0,100,30)\r\n",
    "p"
   ],
   "outputs": [
    {
     "output_type": "execute_result",
     "data": {
      "text/plain": [
       "array([17, 94, 66, 15,  1, 99, 19, 26, 97,  4, 25, 48, 38, 10, 81, 57, 96,\n",
       "       79, 45, 55, 83, 75, 25, 17, 79, 71, 54, 76, 80, 64])"
      ]
     },
     "metadata": {},
     "execution_count": 36
    }
   ],
   "metadata": {}
  },
  {
   "cell_type": "code",
   "execution_count": 37,
   "source": [
    "new_array = p.reshape(5,6)\r\n",
    "new_array"
   ],
   "outputs": [
    {
     "output_type": "execute_result",
     "data": {
      "text/plain": [
       "array([[17, 94, 66, 15,  1, 99],\n",
       "       [19, 26, 97,  4, 25, 48],\n",
       "       [38, 10, 81, 57, 96, 79],\n",
       "       [45, 55, 83, 75, 25, 17],\n",
       "       [79, 71, 54, 76, 80, 64]])"
      ]
     },
     "metadata": {},
     "execution_count": 37
    }
   ],
   "metadata": {}
  },
  {
   "cell_type": "code",
   "execution_count": 38,
   "source": [
    "p.min()"
   ],
   "outputs": [
    {
     "output_type": "execute_result",
     "data": {
      "text/plain": [
       "1"
      ]
     },
     "metadata": {},
     "execution_count": 38
    }
   ],
   "metadata": {}
  },
  {
   "cell_type": "code",
   "execution_count": 39,
   "source": [
    "p.argmin()"
   ],
   "outputs": [
    {
     "output_type": "execute_result",
     "data": {
      "text/plain": [
       "4"
      ]
     },
     "metadata": {},
     "execution_count": 39
    }
   ],
   "metadata": {}
  },
  {
   "cell_type": "code",
   "execution_count": 40,
   "source": [
    "p.max()"
   ],
   "outputs": [
    {
     "output_type": "execute_result",
     "data": {
      "text/plain": [
       "99"
      ]
     },
     "metadata": {},
     "execution_count": 40
    }
   ],
   "metadata": {}
  },
  {
   "cell_type": "code",
   "execution_count": 41,
   "source": [
    "p.argmax()"
   ],
   "outputs": [
    {
     "output_type": "execute_result",
     "data": {
      "text/plain": [
       "5"
      ]
     },
     "metadata": {},
     "execution_count": 41
    }
   ],
   "metadata": {}
  },
  {
   "cell_type": "markdown",
   "source": [
    "## 5. Operations with matrices\n",
    "\n",
    "### ADD\n",
    "If you remember, when we have two lists and we add them together.\n",
    "What would be the result?\n"
   ],
   "metadata": {}
  },
  {
   "cell_type": "code",
   "execution_count": 42,
   "source": [
    "a = [1,3,5]\r\n",
    "b = [20, 30, 40]\r\n",
    "c = a + b\r\n",
    "c"
   ],
   "outputs": [
    {
     "output_type": "execute_result",
     "data": {
      "text/plain": [
       "[1, 3, 5, 20, 30, 40]"
      ]
     },
     "metadata": {},
     "execution_count": 42
    }
   ],
   "metadata": {}
  },
  {
   "cell_type": "markdown",
   "source": [
    "With NumPy, let's try to **ADD** them again."
   ],
   "metadata": {}
  },
  {
   "cell_type": "code",
   "execution_count": 43,
   "source": [
    "d = np.array( [1,2,3])\r\n",
    "e = np.array( [10,100,1000])\r\n",
    "d + e"
   ],
   "outputs": [
    {
     "output_type": "execute_result",
     "data": {
      "text/plain": [
       "array([  11,  102, 1003])"
      ]
     },
     "metadata": {},
     "execution_count": 43
    }
   ],
   "metadata": {}
  },
  {
   "cell_type": "markdown",
   "source": [
    "**If the dimensions are not the same, you will get an error message.**\n"
   ],
   "metadata": {}
  },
  {
   "cell_type": "code",
   "execution_count": 44,
   "source": [
    "d = np.array( [1,2,3,4])\r\n",
    "e = np.array( [10,100,1000])\r\n",
    "d + e"
   ],
   "outputs": [
    {
     "output_type": "error",
     "ename": "ValueError",
     "evalue": "operands could not be broadcast together with shapes (4,) (3,) ",
     "traceback": [
      "\u001b[1;31m---------------------------------------------------------------------------\u001b[0m",
      "\u001b[1;31mValueError\u001b[0m                                Traceback (most recent call last)",
      "\u001b[1;32m~\\AppData\\Local\\Temp/ipykernel_1040/2908285786.py\u001b[0m in \u001b[0;36m<module>\u001b[1;34m\u001b[0m\n\u001b[0;32m      1\u001b[0m \u001b[0md\u001b[0m \u001b[1;33m=\u001b[0m \u001b[0mnp\u001b[0m\u001b[1;33m.\u001b[0m\u001b[0marray\u001b[0m\u001b[1;33m(\u001b[0m \u001b[1;33m[\u001b[0m\u001b[1;36m1\u001b[0m\u001b[1;33m,\u001b[0m\u001b[1;36m2\u001b[0m\u001b[1;33m,\u001b[0m\u001b[1;36m3\u001b[0m\u001b[1;33m,\u001b[0m\u001b[1;36m4\u001b[0m\u001b[1;33m]\u001b[0m\u001b[1;33m)\u001b[0m\u001b[1;33m\u001b[0m\u001b[1;33m\u001b[0m\u001b[0m\n\u001b[0;32m      2\u001b[0m \u001b[0me\u001b[0m \u001b[1;33m=\u001b[0m \u001b[0mnp\u001b[0m\u001b[1;33m.\u001b[0m\u001b[0marray\u001b[0m\u001b[1;33m(\u001b[0m \u001b[1;33m[\u001b[0m\u001b[1;36m10\u001b[0m\u001b[1;33m,\u001b[0m\u001b[1;36m100\u001b[0m\u001b[1;33m,\u001b[0m\u001b[1;36m1000\u001b[0m\u001b[1;33m]\u001b[0m\u001b[1;33m)\u001b[0m\u001b[1;33m\u001b[0m\u001b[1;33m\u001b[0m\u001b[0m\n\u001b[1;32m----> 3\u001b[1;33m \u001b[0md\u001b[0m \u001b[1;33m+\u001b[0m \u001b[0me\u001b[0m\u001b[1;33m\u001b[0m\u001b[1;33m\u001b[0m\u001b[0m\n\u001b[0m",
      "\u001b[1;31mValueError\u001b[0m: operands could not be broadcast together with shapes (4,) (3,) "
     ]
    }
   ],
   "metadata": {}
  },
  {
   "cell_type": "markdown",
   "source": [
    "** What if we want to append an array to another array?**\n",
    "You cannot add data to an existing array. However, you can copy elements and append a new one to form a new array. This can be slow if you have a lot of data points."
   ],
   "metadata": {}
  },
  {
   "cell_type": "code",
   "execution_count": 45,
   "source": [
    "f = np.array([\"ha\",\"ho\"])\r\n",
    "g = np.array([\"hey\",\"how\"])\r\n",
    "h = np.append(f,g)\r\n",
    "h"
   ],
   "outputs": [
    {
     "output_type": "execute_result",
     "data": {
      "text/plain": [
       "array(['ha', 'ho', 'hey', 'how'], dtype='<U3')"
      ]
     },
     "metadata": {},
     "execution_count": 45
    }
   ],
   "metadata": {}
  },
  {
   "cell_type": "markdown",
   "source": [
    "### MULTIPLY\n",
    "We can multiply a matric with a scalar.\n",
    "\n",
    "Try:\n",
    "```python\n",
    "g = np.array( [1,2,3] )\n",
    "2*g\n",
    "```"
   ],
   "metadata": {}
  },
  {
   "cell_type": "code",
   "execution_count": 46,
   "source": [
    "g = np.array( [1,2,3] )\r\n",
    "2*g"
   ],
   "outputs": [
    {
     "output_type": "execute_result",
     "data": {
      "text/plain": [
       "array([2, 4, 6])"
      ]
     },
     "metadata": {},
     "execution_count": 46
    }
   ],
   "metadata": {}
  },
  {
   "cell_type": "code",
   "execution_count": 47,
   "source": [
    "i = np.array( [2,3,4])\r\n",
    "i*i"
   ],
   "outputs": [
    {
     "output_type": "execute_result",
     "data": {
      "text/plain": [
       "array([ 4,  9, 16])"
      ]
     },
     "metadata": {},
     "execution_count": 47
    }
   ],
   "metadata": {}
  }
 ]
}