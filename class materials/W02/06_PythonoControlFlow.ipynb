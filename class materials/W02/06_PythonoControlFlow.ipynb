{
 "metadata": {
  "language_info": {
   "codemirror_mode": {
    "name": "ipython",
    "version": 3
   },
   "file_extension": ".py",
   "mimetype": "text/x-python",
   "name": "python",
   "nbconvert_exporter": "python",
   "pygments_lexer": "ipython3",
   "version": "3.8.11"
  },
  "orig_nbformat": 2,
  "kernelspec": {
   "name": "python3",
   "display_name": "Python 3.8.11 64-bit ('iccs161 ver2': conda)"
  },
  "interpreter": {
   "hash": "6bcc8282a6c303b6ee86c7e0d9a43121f90860270f44aee589454620e8cc1f45"
  }
 },
 "nbformat": 4,
 "nbformat_minor": 2,
 "cells": [
  {
   "cell_type": "markdown",
   "source": [
    "# Basic Python for Data Science - 3\n",
    "## Control Flow\n",
    "\n",
    "The program execute from the first line and then follow the journey (normally running the line below) until the program terminates.  However, this doesn't mean we want to run all lines from the first to the last.  The execution of certain portions may depend on conditions. This also happen in real life,\n",
    "\n",
    "```If I have money, I will eat sushi tonight.```\n",
    "\n",
    "From the statment above, it will get to eat sushi only when I have money.\n",
    "\n",
    "This lesson, we will learn how to control flow of execution.\n",
    "\n",
    "1. Boolean values\n",
    "2. Block scope\n",
    "3. Looping"
   ],
   "metadata": {}
  },
  {
   "cell_type": "markdown",
   "source": [
    "## 1. Boolean values\n",
    "There are two possible values: **True** or **False**."
   ],
   "metadata": {}
  },
  {
   "cell_type": "code",
   "execution_count": 25,
   "source": [
    "print(5)\r\n",
    "print(1.414)\r\n",
    "print(5==5)\r\n",
    "print(5<10)\r\n",
    "print(5>10)\r\n",
    "print(5<=7)\r\n",
    "print(5>=9)"
   ],
   "outputs": [
    {
     "output_type": "stream",
     "name": "stdout",
     "text": [
      "5\n",
      "1.414\n",
      "True\n",
      "True\n",
      "False\n",
      "True\n",
      "False\n"
     ]
    }
   ],
   "metadata": {
    "tags": []
   }
  },
  {
   "cell_type": "markdown",
   "source": [
    "There are also operators that we can use to make a more complicated statement."
   ],
   "metadata": {}
  },
  {
   "cell_type": "code",
   "execution_count": 26,
   "source": [
    "x = 3.2\r\n",
    "print(x < 4)\r\n",
    "print(x > 3.5)\r\n",
    "print( (x<4) and (x>3.5) )\r\n",
    "print( (x<4) or (x>3.5) )"
   ],
   "outputs": [
    {
     "output_type": "stream",
     "name": "stdout",
     "text": [
      "True\n",
      "False\n",
      "False\n",
      "True\n"
     ]
    }
   ],
   "metadata": {
    "tags": []
   }
  },
  {
   "cell_type": "markdown",
   "source": [
    "Let's go back to the having dinner example. To be more precise, if I have more than 2,000 Bath, I will have sushi.\n",
    "\n",
    "Python has a way to check the condition by using if statement.\n",
    "\n",
    "_change value of the money to see the result_\n"
   ],
   "metadata": {}
  },
  {
   "cell_type": "code",
   "execution_count": 27,
   "source": [
    "money = 20\r\n",
    "if (money >= 2000):\r\n",
    "    print(\"I will have sushi.\")"
   ],
   "outputs": [],
   "metadata": {
    "tags": []
   }
  },
  {
   "cell_type": "markdown",
   "source": [
    "## 2. Block scope\n",
    "When I have money, I may want to do many things, not just having sushi. We can have more lines. With the same indentation, Python will consider that to be in the same block.\n"
   ],
   "metadata": {}
  },
  {
   "cell_type": "code",
   "execution_count": 28,
   "source": [
    "money = 2000\r\n",
    "if (money >= 2000):\r\n",
    "    print(\"I will have sushi.\")\r\n",
    "    print(\"I will watch TENET.\")\r\n",
    "    print(\"I will buy popcorn.\")\r\n",
    "print(\"I will go to bed.\")"
   ],
   "outputs": [
    {
     "output_type": "stream",
     "name": "stdout",
     "text": [
      "I will have sushi.\n",
      "I will watch TENET.\n",
      "I will buy popcorn.\n",
      "I will go to bed.\n"
     ]
    }
   ],
   "metadata": {
    "tags": []
   }
  },
  {
   "cell_type": "markdown",
   "source": [
    "We can also extend if to a more complicated situation. For example,\n",
    "\n",
    "```if I have more than 2,000 Bath, I will have sushi. Otherwise, I will have MaMa.```\n",
    "\n",
    "We can do this in python."
   ],
   "metadata": {}
  },
  {
   "cell_type": "code",
   "execution_count": 29,
   "source": [
    "money = 2000\r\n",
    "if (money >= 2000):\r\n",
    "    print(\"I will have sushi.\")\r\n",
    "else:\r\n",
    "    print(\"I will have MaMa.\")"
   ],
   "outputs": [
    {
     "output_type": "stream",
     "name": "stdout",
     "text": [
      "I will have sushi.\n"
     ]
    }
   ],
   "metadata": {
    "tags": []
   }
  },
  {
   "cell_type": "markdown",
   "source": [
    "There are more complicated forms to construct the **if statement**. Anyway, let's start minimally and progress later on as needed."
   ],
   "metadata": {}
  },
  {
   "cell_type": "markdown",
   "source": [
    "## 3. Looping\n",
    "When we have a list with a lot of elements and we want to do something (in the same manner) to each element. We can do it a manual (painful) way. For example, if we have a list of 3 numbers and we want to print out a double value of each number, we can do this.\n"
   ],
   "metadata": {}
  },
  {
   "cell_type": "code",
   "execution_count": 30,
   "source": [
    "my_list = [11,13,15]\r\n",
    "print( my_list[0]*2 )\r\n",
    "print( my_list[1]*2 )\r\n",
    "print( my_list[2]*2 )"
   ],
   "outputs": [
    {
     "output_type": "stream",
     "name": "stdout",
     "text": [
      "22\n",
      "26\n",
      "30\n"
     ]
    }
   ],
   "metadata": {
    "tags": []
   }
  },
  {
   "cell_type": "markdown",
   "source": [
    "Imaging that we have 1000 elements in the list. The code will be very long. When we need to do this repeated task. Python provide us a mechanism called *looping*.  We can create a loop to do something with each element (aka: **foreach loop**).\n"
   ],
   "metadata": {}
  },
  {
   "cell_type": "code",
   "execution_count": 31,
   "source": [
    "my_list = [11,13,15]\r\n",
    "\r\n",
    "for elem in my_list:\r\n",
    "    print(elem *2)"
   ],
   "outputs": [
    {
     "output_type": "stream",
     "name": "stdout",
     "text": [
      "22\n",
      "26\n",
      "30\n"
     ]
    }
   ],
   "metadata": {
    "tags": []
   }
  },
  {
   "cell_type": "markdown",
   "source": [
    "## Practice with control flow.\n",
    "Given a list of numbers 2,3,5,7,11,13,17,19,23,29 , modify the program below to print the number out if that number is greater than 10 and less than 20."
   ],
   "metadata": {}
  },
  {
   "cell_type": "code",
   "execution_count": 2,
   "source": [
    "my_list = [2,3,5,7,11,13,17,19,23,29]\r\n",
    "for element in my_list:\r\n",
    "    if( (element > 10) and (element < 20)):\r\n",
    "        print(element)"
   ],
   "outputs": [
    {
     "output_type": "stream",
     "name": "stdout",
     "text": [
      "11\n",
      "13\n",
      "17\n",
      "19\n"
     ]
    }
   ],
   "metadata": {}
  }
 ]
}