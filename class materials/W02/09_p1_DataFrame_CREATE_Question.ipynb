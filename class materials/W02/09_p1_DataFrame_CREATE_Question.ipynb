{
 "metadata": {
  "language_info": {
   "codemirror_mode": {
    "name": "ipython",
    "version": 3
   },
   "file_extension": ".py",
   "mimetype": "text/x-python",
   "name": "python",
   "nbconvert_exporter": "python",
   "pygments_lexer": "ipython3",
   "version": "3.8.11"
  },
  "orig_nbformat": 2,
  "kernelspec": {
   "name": "python3",
   "display_name": "Python 3.8.11 64-bit ('iccs161 ver2': conda)"
  },
  "interpreter": {
   "hash": "6bcc8282a6c303b6ee86c7e0d9a43121f90860270f44aee589454620e8cc1f45"
  }
 },
 "nbformat": 4,
 "nbformat_minor": 2,
 "cells": [
  {
   "cell_type": "markdown",
   "source": [
    "## DataFrame - Practice1 - CREATE\n",
    "Q1. Before you can use pandas, what code do you need to do it (once)? Type and the code below."
   ],
   "metadata": {}
  },
  {
   "cell_type": "code",
   "execution_count": 1,
   "source": [
    "# Q1 Type the answer here\r\n",
    "import pandas as pd\r\n",
    "import numpy as np "
   ],
   "outputs": [],
   "metadata": {}
  },
  {
   "cell_type": "markdown",
   "source": [
    "Q2. Create a dataframe as shown here.\n",
    "\n",
    "| ` ` | `StudentID` | `NickName` | `Major` |\n",
    "| --- | --- | --- | --- |\n",
    "| 0 | 6781234 | Tom | BA |\n",
    "| 1 | 678222 | Tim | CH |\n",
    "| 2 | 678333 | Ted | CS |\n",
    "| 3 | 678444 | Tan | FS |\n"
   ],
   "metadata": {}
  },
  {
   "cell_type": "code",
   "execution_count": 3,
   "source": [
    "# Q2 Type your answer here\r\n",
    "df1 =  {\"StudentID\":['6281234','678222','678333','678444'], \"NickName\":['Tom','Tim','Ted','Tan'], \"Major\":['BA','CH','CS','FS']}\r\n",
    "df11 = pd.DataFrame(df1)\r\n",
    "df11"
   ],
   "outputs": [
    {
     "output_type": "execute_result",
     "data": {
      "text/html": [
       "<div>\n",
       "<style scoped>\n",
       "    .dataframe tbody tr th:only-of-type {\n",
       "        vertical-align: middle;\n",
       "    }\n",
       "\n",
       "    .dataframe tbody tr th {\n",
       "        vertical-align: top;\n",
       "    }\n",
       "\n",
       "    .dataframe thead th {\n",
       "        text-align: right;\n",
       "    }\n",
       "</style>\n",
       "<table border=\"1\" class=\"dataframe\">\n",
       "  <thead>\n",
       "    <tr style=\"text-align: right;\">\n",
       "      <th></th>\n",
       "      <th>StudentID</th>\n",
       "      <th>NickName</th>\n",
       "      <th>Major</th>\n",
       "    </tr>\n",
       "  </thead>\n",
       "  <tbody>\n",
       "    <tr>\n",
       "      <th>0</th>\n",
       "      <td>6281234</td>\n",
       "      <td>Tom</td>\n",
       "      <td>BA</td>\n",
       "    </tr>\n",
       "    <tr>\n",
       "      <th>1</th>\n",
       "      <td>678222</td>\n",
       "      <td>Tim</td>\n",
       "      <td>CH</td>\n",
       "    </tr>\n",
       "    <tr>\n",
       "      <th>2</th>\n",
       "      <td>678333</td>\n",
       "      <td>Ted</td>\n",
       "      <td>CS</td>\n",
       "    </tr>\n",
       "    <tr>\n",
       "      <th>3</th>\n",
       "      <td>678444</td>\n",
       "      <td>Tan</td>\n",
       "      <td>FS</td>\n",
       "    </tr>\n",
       "  </tbody>\n",
       "</table>\n",
       "</div>"
      ],
      "text/plain": [
       "  StudentID NickName Major\n",
       "0   6281234      Tom    BA\n",
       "1    678222      Tim    CH\n",
       "2    678333      Ted    CS\n",
       "3    678444      Tan    FS"
      ]
     },
     "metadata": {},
     "execution_count": 3
    }
   ],
   "metadata": {}
  },
  {
   "cell_type": "code",
   "execution_count": 4,
   "source": [
    "my_dt = {'StudentID': [6781234,678222,678333,678444], 'NickName':['Tom','Ted','Tim','Tan']}\r\n",
    "df1 = pd.DataFrame(my_dt)\r\n",
    "df1"
   ],
   "outputs": [
    {
     "output_type": "execute_result",
     "data": {
      "text/html": [
       "<div>\n",
       "<style scoped>\n",
       "    .dataframe tbody tr th:only-of-type {\n",
       "        vertical-align: middle;\n",
       "    }\n",
       "\n",
       "    .dataframe tbody tr th {\n",
       "        vertical-align: top;\n",
       "    }\n",
       "\n",
       "    .dataframe thead th {\n",
       "        text-align: right;\n",
       "    }\n",
       "</style>\n",
       "<table border=\"1\" class=\"dataframe\">\n",
       "  <thead>\n",
       "    <tr style=\"text-align: right;\">\n",
       "      <th></th>\n",
       "      <th>StudentID</th>\n",
       "      <th>NickName</th>\n",
       "    </tr>\n",
       "  </thead>\n",
       "  <tbody>\n",
       "    <tr>\n",
       "      <th>0</th>\n",
       "      <td>6781234</td>\n",
       "      <td>Tom</td>\n",
       "    </tr>\n",
       "    <tr>\n",
       "      <th>1</th>\n",
       "      <td>678222</td>\n",
       "      <td>Ted</td>\n",
       "    </tr>\n",
       "    <tr>\n",
       "      <th>2</th>\n",
       "      <td>678333</td>\n",
       "      <td>Tim</td>\n",
       "    </tr>\n",
       "    <tr>\n",
       "      <th>3</th>\n",
       "      <td>678444</td>\n",
       "      <td>Tan</td>\n",
       "    </tr>\n",
       "  </tbody>\n",
       "</table>\n",
       "</div>"
      ],
      "text/plain": [
       "   StudentID NickName\n",
       "0    6781234      Tom\n",
       "1     678222      Ted\n",
       "2     678333      Tim\n",
       "3     678444      Tan"
      ]
     },
     "metadata": {},
     "execution_count": 4
    }
   ],
   "metadata": {}
  },
  {
   "cell_type": "markdown",
   "source": [
    "Q3. Create a dataframe with data as shown in Q2. Set the index label are \"Thomas\", \"Timmothy\", \"Teddy\", \"Tenet\"."
   ],
   "metadata": {}
  },
  {
   "cell_type": "code",
   "execution_count": 5,
   "source": [
    "myList = [\"Thomas\", \"Timmothy\", \"Teddy\", \"Tenet\"]\r\n",
    "df2 = pd.DataFrame(myList)\r\n",
    "df2"
   ],
   "outputs": [
    {
     "output_type": "execute_result",
     "data": {
      "text/html": [
       "<div>\n",
       "<style scoped>\n",
       "    .dataframe tbody tr th:only-of-type {\n",
       "        vertical-align: middle;\n",
       "    }\n",
       "\n",
       "    .dataframe tbody tr th {\n",
       "        vertical-align: top;\n",
       "    }\n",
       "\n",
       "    .dataframe thead th {\n",
       "        text-align: right;\n",
       "    }\n",
       "</style>\n",
       "<table border=\"1\" class=\"dataframe\">\n",
       "  <thead>\n",
       "    <tr style=\"text-align: right;\">\n",
       "      <th></th>\n",
       "      <th>0</th>\n",
       "    </tr>\n",
       "  </thead>\n",
       "  <tbody>\n",
       "    <tr>\n",
       "      <th>0</th>\n",
       "      <td>Thomas</td>\n",
       "    </tr>\n",
       "    <tr>\n",
       "      <th>1</th>\n",
       "      <td>Timmothy</td>\n",
       "    </tr>\n",
       "    <tr>\n",
       "      <th>2</th>\n",
       "      <td>Teddy</td>\n",
       "    </tr>\n",
       "    <tr>\n",
       "      <th>3</th>\n",
       "      <td>Tenet</td>\n",
       "    </tr>\n",
       "  </tbody>\n",
       "</table>\n",
       "</div>"
      ],
      "text/plain": [
       "          0\n",
       "0    Thomas\n",
       "1  Timmothy\n",
       "2     Teddy\n",
       "3     Tenet"
      ]
     },
     "metadata": {},
     "execution_count": 5
    }
   ],
   "metadata": {}
  },
  {
   "cell_type": "markdown",
   "source": [
    "Q4. Create a dataframe you did in Q3 by starting with an empty dataframe and manually set each column to a series."
   ],
   "metadata": {}
  },
  {
   "cell_type": "code",
   "execution_count": 7,
   "source": [
    "#Q4 Type your answer here\r\n",
    "df4 = pd.DataFrame() # Create empty dataframe\r\n",
    "\r\n",
    "ser1 = pd.Series([6781234,678222,678333,678444])      # Create a series from a list\r\n",
    "ser2 = pd.Series([\"Tom\",\"Tim\",\"Ted\",\"Tan\"])     # Create a series from a list\r\n",
    "ser3 = pd.Series([\"BA\",\"CH\",\"CS\",\"FS\"])      # Create a series from a list\r\n",
    "\r\n",
    "df4[\"StudentID\"]=ser1 # Manually set column StudentID to ser1\r\n",
    "df4[\"NickName\"]=ser2  # Manually set column NickName to ser2\r\n",
    "df4[\"Major\"]=ser3  # Manually set column Major to ser3\r\n",
    "\r\n",
    "my_index = pd.Series([\"Thomas\",\"Timmothy\",\"Teddy\",\"Tenet\"])              # Create a series from a list\r\n",
    "df4.set_index(my_index,inplace=True)           # Set index of our dataframe to the list we just created\r\n",
    "df4"
   ],
   "outputs": [
    {
     "output_type": "execute_result",
     "data": {
      "text/html": [
       "<div>\n",
       "<style scoped>\n",
       "    .dataframe tbody tr th:only-of-type {\n",
       "        vertical-align: middle;\n",
       "    }\n",
       "\n",
       "    .dataframe tbody tr th {\n",
       "        vertical-align: top;\n",
       "    }\n",
       "\n",
       "    .dataframe thead th {\n",
       "        text-align: right;\n",
       "    }\n",
       "</style>\n",
       "<table border=\"1\" class=\"dataframe\">\n",
       "  <thead>\n",
       "    <tr style=\"text-align: right;\">\n",
       "      <th></th>\n",
       "      <th>StudentID</th>\n",
       "      <th>NickName</th>\n",
       "      <th>Major</th>\n",
       "    </tr>\n",
       "  </thead>\n",
       "  <tbody>\n",
       "    <tr>\n",
       "      <th>Thomas</th>\n",
       "      <td>6781234</td>\n",
       "      <td>Tom</td>\n",
       "      <td>BA</td>\n",
       "    </tr>\n",
       "    <tr>\n",
       "      <th>Timmothy</th>\n",
       "      <td>678222</td>\n",
       "      <td>Tim</td>\n",
       "      <td>CH</td>\n",
       "    </tr>\n",
       "    <tr>\n",
       "      <th>Teddy</th>\n",
       "      <td>678333</td>\n",
       "      <td>Ted</td>\n",
       "      <td>CS</td>\n",
       "    </tr>\n",
       "    <tr>\n",
       "      <th>Tenet</th>\n",
       "      <td>678444</td>\n",
       "      <td>Tan</td>\n",
       "      <td>FS</td>\n",
       "    </tr>\n",
       "  </tbody>\n",
       "</table>\n",
       "</div>"
      ],
      "text/plain": [
       "          StudentID NickName Major\n",
       "Thomas      6781234      Tom    BA\n",
       "Timmothy     678222      Tim    CH\n",
       "Teddy        678333      Ted    CS\n",
       "Tenet        678444      Tan    FS"
      ]
     },
     "metadata": {},
     "execution_count": 7
    }
   ],
   "metadata": {}
  },
  {
   "cell_type": "code",
   "execution_count": null,
   "source": [],
   "outputs": [],
   "metadata": {}
  }
 ]
}