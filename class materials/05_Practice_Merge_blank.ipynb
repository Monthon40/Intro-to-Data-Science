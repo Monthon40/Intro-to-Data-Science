{
 "metadata": {
  "language_info": {
   "codemirror_mode": {
    "name": "ipython",
    "version": 3
   },
   "file_extension": ".py",
   "mimetype": "text/x-python",
   "name": "python",
   "nbconvert_exporter": "python",
   "pygments_lexer": "ipython3",
   "version": "3.8.5-final"
  },
  "orig_nbformat": 2,
  "kernelspec": {
   "name": "Python 3.8.5 64-bit ('SEP2020': conda)",
   "display_name": "Python 3.8.5 64-bit ('SEP2020': conda)",
   "metadata": {
    "interpreter": {
     "hash": "5ef6ff14a907f425220e8b6e8cc81aadb43d609f176a3b262af53802869b60f9"
    }
   }
  }
 },
 "nbformat": 4,
 "nbformat_minor": 2,
 "cells": [
  {
   "source": [
    "# In-Class Assignment \n",
    "## (Concatenate dataframes)\n",
    "Given the following csv files\n",
    "\n",
    "**book1.csv**\n",
    "\n",
    ">|ISBN|TITLE|PRICE|\n",
    "|---|---|---|\n",
    "|978-3-11-148111-1|Introduction to DS|35|\n",
    "|978-3-12-148143-2|Yoga for Everyone|12|\n",
    "|978-3-37-148544-7|Nutrition|42|\n",
    "|978-3-25-148007-5|Gardening|17|\n",
    "\n",
    "**book2.csv**\n",
    "\n",
    ">|ISBN|PUBLISHER|\n",
    "|---|---|\n",
    "|978-3-11-148111-1|CS Press|\n",
    "|978-3-12-148143-2|Tom & Timmy|\n",
    "|978-3-37-148544-7|OhMyGod|\n",
    "|978-3-25-148007-5|OhMyGod|\n",
    "\n",
    "**book3.csv**\n",
    "\n",
    ">|ISBN|AUTHOR|\n",
    "|---|---|\n",
    "|978-3-11-148111-1|Ben Kenobi|\n",
    "|978-3-11-148111-1|Luke Skywalker|\n",
    "|978-3-12-148143-2|Minch Yoda|\n",
    "|978-3-37-148544-7|Han Solo|\n",
    "|978-3-25-148007-5|Darth Vader|\n",
    "|978-3-25-148007-5|Luke Skywalker|\n",
    "|978-3-25-148007-5|Ben Kenobi|\n",
    "\n",
    "**book4.csv**\n",
    "\n",
    ">|PUB.|CITY|\n",
    "|---|---|\n",
    "|CS Press|Phuket|\n",
    "|Tom & Timmy|Krabi|\n",
    "|OhMyGod|Bangkok|"
   ],
   "cell_type": "markdown",
   "metadata": {}
  },
  {
   "cell_type": "code",
   "execution_count": null,
   "metadata": {},
   "outputs": [],
   "source": []
  },
  {
   "source": [
    "## Task #1: \n",
    "File _book1.csv_ has basic information about the book. However, it doesn't have information about the publisher. Create a script such that the dataframe has the basic information from book1 with the information of the publisher of each book, assign the result to a variable **df5**."
   ],
   "cell_type": "markdown",
   "metadata": {}
  },
  {
   "cell_type": "code",
   "execution_count": null,
   "metadata": {},
   "outputs": [],
   "source": []
  },
  {
   "source": [
    "## Task #2:\n",
    "From df5, we also want to know the the city of the publisher. Create a dataframe that has the book details with the city of the publisher. Assign the result in a variable **df6**. "
   ],
   "cell_type": "markdown",
   "metadata": {}
  },
  {
   "source": [],
   "cell_type": "code",
   "metadata": {},
   "execution_count": null,
   "outputs": []
  }
 ]
}