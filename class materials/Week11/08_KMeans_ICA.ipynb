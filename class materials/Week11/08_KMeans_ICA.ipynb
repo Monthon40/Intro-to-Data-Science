{
 "metadata": {
  "language_info": {
   "codemirror_mode": {
    "name": "ipython",
    "version": 3
   },
   "file_extension": ".py",
   "mimetype": "text/x-python",
   "name": "python",
   "nbconvert_exporter": "python",
   "pygments_lexer": "ipython3",
   "version": "3.8.2-final"
  },
  "orig_nbformat": 2,
  "kernelspec": {
   "name": "python3",
   "display_name": "Python 3"
  }
 },
 "nbformat": 4,
 "nbformat_minor": 2,
 "cells": [
  {
   "source": [
    "# K Means : In-Class Activity"
   ],
   "cell_type": "markdown",
   "metadata": {}
  },
  {
   "cell_type": "code",
   "execution_count": 1,
   "metadata": {},
   "outputs": [],
   "source": [
    "import pandas as pd\n",
    "import matplotlib.pyplot as plt"
   ]
  },
  {
   "cell_type": "code",
   "execution_count": 2,
   "metadata": {},
   "outputs": [
    {
     "output_type": "execute_result",
     "data": {
      "text/plain": [
       "(1797, 64)"
      ]
     },
     "metadata": {},
     "execution_count": 2
    }
   ],
   "source": [
    "from sklearn.datasets import load_digits\n",
    "digits = load_digits()\n",
    "digits.data.shape"
   ]
  },
  {
   "cell_type": "code",
   "execution_count": 3,
   "metadata": {},
   "outputs": [
    {
     "output_type": "execute_result",
     "data": {
      "text/plain": [
       "array([[ 0.,  0.,  5., ...,  0.,  0.,  0.],\n",
       "       [ 0.,  0.,  0., ..., 10.,  0.,  0.],\n",
       "       [ 0.,  0.,  0., ..., 16.,  9.,  0.],\n",
       "       ...,\n",
       "       [ 0.,  0.,  1., ...,  6.,  0.,  0.],\n",
       "       [ 0.,  0.,  2., ..., 12.,  0.,  0.],\n",
       "       [ 0.,  0., 10., ..., 12.,  1.,  0.]])"
      ]
     },
     "metadata": {},
     "execution_count": 3
    }
   ],
   "source": [
    "digits.data"
   ]
  },
  {
   "cell_type": "code",
   "execution_count": 4,
   "metadata": {},
   "outputs": [
    {
     "output_type": "execute_result",
     "data": {
      "text/plain": [
       "(10, 64)"
      ]
     },
     "metadata": {},
     "execution_count": 4
    }
   ],
   "source": [
    "from sklearn.cluster import KMeans\n",
    "kmeans = KMeans(n_clusters=10, random_state=161)\n",
    "clusters = kmeans.fit_predict(digits.data)\n",
    "kmeans.cluster_centers_.shape"
   ]
  },
  {
   "cell_type": "code",
   "execution_count": 5,
   "metadata": {},
   "outputs": [
    {
     "output_type": "display_data",
     "data": {
      "text/plain": "<Figure size 576x216 with 10 Axes>",
      "image/svg+xml": "<?xml version=\"1.0\" encoding=\"utf-8\" standalone=\"no\"?>\n<!DOCTYPE svg PUBLIC \"-//W3C//DTD SVG 1.1//EN\"\n  \"http://www.w3.org/Graphics/SVG/1.1/DTD/svg11.dtd\">\n<!-- Created with matplotlib (https://matplotlib.org/) -->\n<svg height=\"180.98pt\" version=\"1.1\" viewBox=\"0 0 461.461755 180.98\" width=\"461.461755pt\" xmlns=\"http://www.w3.org/2000/svg\" xmlns:xlink=\"http://www.w3.org/1999/xlink\">\n <metadata>\n  <rdf:RDF xmlns:cc=\"http://creativecommons.org/ns#\" xmlns:dc=\"http://purl.org/dc/elements/1.1/\" xmlns:rdf=\"http://www.w3.org/1999/02/22-rdf-syntax-ns#\">\n   <cc:Work>\n    <dc:type rdf:resource=\"http://purl.org/dc/dcmitype/StillImage\"/>\n    <dc:date>2020-11-25T13:18:54.328120</dc:date>\n    <dc:format>image/svg+xml</dc:format>\n    <dc:creator>\n     <cc:Agent>\n      <dc:title>Matplotlib v3.3.1, https://matplotlib.org/</dc:title>\n     </cc:Agent>\n    </dc:creator>\n   </cc:Work>\n  </rdf:RDF>\n </metadata>\n <defs>\n  <style type=\"text/css\">*{stroke-linecap:butt;stroke-linejoin:round;}</style>\n </defs>\n <g id=\"figure_1\">\n  <g id=\"patch_1\">\n   <path d=\"M 0 180.98 \nL 461.461755 180.98 \nL 461.461755 0 \nL 0 0 \nz\n\" style=\"fill:none;\"/>\n  </g>\n  <g id=\"axes_1\">\n   <g id=\"patch_2\">\n    <path d=\"M 10.7 81.327273 \nL 84.827273 81.327273 \nL 84.827273 7.2 \nL 10.7 7.2 \nz\n\" style=\"fill:#ffffff;\"/>\n   </g>\n   <g clip-path=\"url(#pb5a67e0b49)\">\n    <image height=\"75\" id=\"image6e4bc46ef8\" transform=\"scale(1 -1)translate(0 -75)\" width=\"75\" x=\"10.7\" xlink:href=\"data:image/png;base64,\niVBORw0KGgoAAAANSUhEUgAAAEsAAABLCAYAAAA4TnrqAAAByUlEQVR4nO3csarBYRiAcf+DBZHdgFnZ3YPdIovrMXIjRptSMthcgUUsmKQ4l/C+T506y/Ob396vnr7hSyi+3++39EfW63U4M5lMwplKpZI6b7FYhDPT6TS1q1qthjM/qU0qlUrGQowFGAswFmAswFiAsYAi8yh9PB6pZb1eL5wZjUbhzOv1Sp13OBzCme12m9o1GAzCGW8WYCzAWICxAGMBxgKMBRgLMBaQ+vz2eDymln0+n3BmuVyGM+VyOXXeeDwOZ3zB/xNjAcYCjAUYCzAWYCzAWEDqUXo6nVLLut1uONNsNsOZVquVOm84HIYzl8sltSvDmwUYCzAWYCzAWICxAGMBxgKMBaRe8LVaLbXsdruFM9frNZyp1+up897vdzjTaDRSuzK8WYCxAGMBxgKMBRgLMBZgLCD1KO10Oqll5/M5nNntduFM9ld9+/0+nJnP56ldGd4swFiAsQBjAcYCjAUYCzAWkPoJ3f1+Ty3LfIn1+XyGM/1+P3VeURThzGazSe1qt9vhjDcLMBZgLMBYgLEAYwHGAowFGAtIfayc/fbwarUKZ2azWTiT/We2zM/xMi/zLG8WYCzAWICxAGMBxgKMBRgL+AWi2FK4KSYF6AAAAABJRU5ErkJggg==\" y=\"-6.327273\"/>\n   </g>\n   <g id=\"matplotlib.axis_1\"/>\n   <g id=\"matplotlib.axis_2\"/>\n   <g id=\"patch_3\">\n    <path d=\"M 10.7 81.327273 \nL 10.7 7.2 \n\" style=\"fill:none;stroke:#000000;stroke-linecap:square;stroke-linejoin:miter;stroke-width:0.8;\"/>\n   </g>\n   <g id=\"patch_4\">\n    <path d=\"M 84.827273 81.327273 \nL 84.827273 7.2 \n\" style=\"fill:none;stroke:#000000;stroke-linecap:square;stroke-linejoin:miter;stroke-width:0.8;\"/>\n   </g>\n   <g id=\"patch_5\">\n    <path d=\"M 10.7 81.327273 \nL 84.827273 81.327273 \n\" style=\"fill:none;stroke:#000000;stroke-linecap:square;stroke-linejoin:miter;stroke-width:0.8;\"/>\n   </g>\n   <g id=\"patch_6\">\n    <path d=\"M 10.7 7.2 \nL 84.827273 7.2 \n\" style=\"fill:none;stroke:#000000;stroke-linecap:square;stroke-linejoin:miter;stroke-width:0.8;\"/>\n   </g>\n  </g>\n  <g id=\"axes_2\">\n   <g id=\"patch_7\">\n    <path d=\"M 103.058621 81.327273 \nL 177.185893 81.327273 \nL 177.185893 7.2 \nL 103.058621 7.2 \nz\n\" style=\"fill:#ffffff;\"/>\n   </g>\n   <g clip-path=\"url(#pe260b72314)\">\n    <image height=\"75\" id=\"image0b3871120e\" transform=\"scale(1 -1)translate(0 -75)\" width=\"75\" x=\"103.058621\" xlink:href=\"data:image/png;base64,\niVBORw0KGgoAAAANSUhEUgAAAEsAAABLCAYAAAA4TnrqAAAB3klEQVR4nO3cMc4BURSG4Tv8ZBSUEq1YgH6ikViA1gK0WolaawcqlUUIBY0diETEBpQIyfxLON/Xv099cm7y5hY3U0xWlmWZAu/3OxpJKaU0nU7Dmc1mE840m03pvMlkEs7M53NpV6fTCWcq0iaklIhlIZaBWAZiGYhlIJaBWIY/Zejz+UjLer1eOLNarcKZ2+0mnbfdbsOZfr8v7VIe1NwsA7EMxDIQy0AsA7EMxDIQy0Asg/SCz/NcWqa8gpVPxsfjUTpvv9+HM7/fT9pVqcT3hptlIJaBWAZiGYhlIJaBWAZiGaRHab1el5YpD87dbhfOLJdL6bxqtRrOjEYjaZeCm2UgloFYBmIZiGUgloFYBmIZiGWQXvBZlknLvt9vOHM4HMKZ6/UqnbdYLMKZbrcr7VJwswzEMhDLQCwDsQzEMhDLQCyD9Ci93+/SssfjEc6Mx+Nw5nQ6Seedz+dw5vV6SbtqtVo4w80yEMtALAOxDMQyEMtALAOxDNKj9HK5SMtms1k4UxRFONNoNKTzlC+qz+dT2tVqtcIZbpaBWAZiGYhlIJaBWAZiGYhlIJZBesEPBgNp2XA4DGfW63U4o77glb+utdttaZeCm2UgloFYBmIZiGUgloFYBmIZ/gGCx01pTu9dtgAAAABJRU5ErkJggg==\" y=\"-6.327273\"/>\n   </g>\n   <g id=\"matplotlib.axis_3\"/>\n   <g id=\"matplotlib.axis_4\"/>\n   <g id=\"patch_8\">\n    <path d=\"M 103.058621 81.327273 \nL 103.058621 7.2 \n\" style=\"fill:none;stroke:#000000;stroke-linecap:square;stroke-linejoin:miter;stroke-width:0.8;\"/>\n   </g>\n   <g id=\"patch_9\">\n    <path d=\"M 177.185893 81.327273 \nL 177.185893 7.2 \n\" style=\"fill:none;stroke:#000000;stroke-linecap:square;stroke-linejoin:miter;stroke-width:0.8;\"/>\n   </g>\n   <g id=\"patch_10\">\n    <path d=\"M 103.058621 81.327273 \nL 177.185893 81.327273 \n\" style=\"fill:none;stroke:#000000;stroke-linecap:square;stroke-linejoin:miter;stroke-width:0.8;\"/>\n   </g>\n   <g id=\"patch_11\">\n    <path d=\"M 103.058621 7.2 \nL 177.185893 7.2 \n\" style=\"fill:none;stroke:#000000;stroke-linecap:square;stroke-linejoin:miter;stroke-width:0.8;\"/>\n   </g>\n  </g>\n  <g id=\"axes_3\">\n   <g id=\"patch_12\">\n    <path d=\"M 195.417241 81.327273 \nL 269.544514 81.327273 \nL 269.544514 7.2 \nL 195.417241 7.2 \nz\n\" style=\"fill:#ffffff;\"/>\n   </g>\n   <g clip-path=\"url(#p57abcba2a5)\">\n    <image height=\"75\" id=\"imagec3b52e756c\" transform=\"scale(1 -1)translate(0 -75)\" width=\"75\" x=\"195.417241\" xlink:href=\"data:image/png;base64,\niVBORw0KGgoAAAANSUhEUgAAAEsAAABLCAYAAAA4TnrqAAAB2klEQVR4nO3cMY5BURyF8TuDeKWohESjk7cAhUSlpKGwAK2KfahYgT2oFaK1AY2oFToS3izhf06im+9Xn9ybfHnFzWRmfoqiKFLgfr9Hk5RSSrPZLNwcDodws1wupftWq1W4qdfr0lmK36+d9A8Qy0AsA7EMxDIQy0AsA7EMZWVUqVSkw+bzebhpNBrhZr/fS/fleR5uJpOJdFa1Wg03fFkGYhmIZSCWgVgGYhmIZSCWgVgG6QWfZZl02GAwCDelUincPJ9P6b7r9RpuXq+XdBYv+C8jloFYBmIZiGUgloFYBmIZpEfp7XaTDttut+HmcrmEm8/nI93XbDbDjfIIVvFlGYhlIJaBWAZiGYhlIJaBWAZiGaQX/Ol0kg7bbDbhptPphJvRaCTd1+v1wo36I3EFX5aBWAZiGYhlIJaBWAZiGYhlkB6lj8dDOuz9foebxWIRbobDoXRfrVYLN8JfCMr4sgzEMhDLQCwDsQzEMhDLQCyD9ChVfqcgJe2XXdfrdbg5n8/Sfe12O9yMx2PprG63G274sgzEMhDLQCwDsQzEMhDLQCwDsQzSC77f70uHTafTcHM8HsPNbreT7mu1WuFG+UcZKfGC/zpiGYhlIJaBWAZiGYhlIJbhDzs2SC9DS8W/AAAAAElFTkSuQmCC\" y=\"-6.327273\"/>\n   </g>\n   <g id=\"matplotlib.axis_5\"/>\n   <g id=\"matplotlib.axis_6\"/>\n   <g id=\"patch_13\">\n    <path d=\"M 195.417241 81.327273 \nL 195.417241 7.2 \n\" style=\"fill:none;stroke:#000000;stroke-linecap:square;stroke-linejoin:miter;stroke-width:0.8;\"/>\n   </g>\n   <g id=\"patch_14\">\n    <path d=\"M 269.544514 81.327273 \nL 269.544514 7.2 \n\" style=\"fill:none;stroke:#000000;stroke-linecap:square;stroke-linejoin:miter;stroke-width:0.8;\"/>\n   </g>\n   <g id=\"patch_15\">\n    <path d=\"M 195.417241 81.327273 \nL 269.544514 81.327273 \n\" style=\"fill:none;stroke:#000000;stroke-linecap:square;stroke-linejoin:miter;stroke-width:0.8;\"/>\n   </g>\n   <g id=\"patch_16\">\n    <path d=\"M 195.417241 7.2 \nL 269.544514 7.2 \n\" style=\"fill:none;stroke:#000000;stroke-linecap:square;stroke-linejoin:miter;stroke-width:0.8;\"/>\n   </g>\n  </g>\n  <g id=\"axes_4\">\n   <g id=\"patch_17\">\n    <path d=\"M 287.775862 81.327273 \nL 361.903135 81.327273 \nL 361.903135 7.2 \nL 287.775862 7.2 \nz\n\" style=\"fill:#ffffff;\"/>\n   </g>\n   <g clip-path=\"url(#p9c8cc8fc5a)\">\n    <image height=\"75\" id=\"imageb74d48d66d\" transform=\"scale(1 -1)translate(0 -75)\" width=\"75\" x=\"287.775862\" xlink:href=\"data:image/png;base64,\niVBORw0KGgoAAAANSUhEUgAAAEsAAABLCAYAAAA4TnrqAAAByElEQVR4nO3cMa5xURhG4XN+f0IhEiFCIZiCSq9RqIRGqTYDnU4lemPQGoqoNRSmwB3C961EuZ76zd7Jyi7Ovbm55ff7/RY/8nw+w81mswk31+s1dd9wOAw3p9MpddZ8Pg83/1InqSgKYyHGAowFGAswFmAswFhAmfko/Xw+qcOWy2W4ud1u4Wa326XuO5/P4aZWq6XOulwu4caXBRgLMBZgLMBYgLEAYwHGAowF/M+MHo9H6rDMr4On02m4yf7E0Gq1frIpiqKoVqvhxpcFGAswFmAswFiAsQBjAcYCfvpRmvmzifv9Hm6Ox2PqvtFoFG62223qrEqlEm58WYCxAGMBxgKMBRgLMBZgLMBYQOoLvtPppA5rNpvhZrFYhJvZbJa6L/MFPxgMUmdl+LIAYwHGAowFGAswFmAswFhA6qO01+ulDmu32+Hm9XqFm/F4nLqv0WiEm7IsU2dl+LIAYwHGAowFGAswFmAswFhA6qO0Xq+nDluv1+Fmv9+Hm8lk8rP7Mh+uWb4swFiAsQBjAcYCjAUYCzAWYCwg9U8wst7vd7hZrVbhpt/vp+47HA7hptvtps7K8GUBxgKMBRgLMBZgLMBYgLGAP9jSR7Q4uj3jAAAAAElFTkSuQmCC\" y=\"-6.327273\"/>\n   </g>\n   <g id=\"matplotlib.axis_7\"/>\n   <g id=\"matplotlib.axis_8\"/>\n   <g id=\"patch_18\">\n    <path d=\"M 287.775862 81.327273 \nL 287.775862 7.2 \n\" style=\"fill:none;stroke:#000000;stroke-linecap:square;stroke-linejoin:miter;stroke-width:0.8;\"/>\n   </g>\n   <g id=\"patch_19\">\n    <path d=\"M 361.903135 81.327273 \nL 361.903135 7.2 \n\" style=\"fill:none;stroke:#000000;stroke-linecap:square;stroke-linejoin:miter;stroke-width:0.8;\"/>\n   </g>\n   <g id=\"patch_20\">\n    <path d=\"M 287.775862 81.327273 \nL 361.903135 81.327273 \n\" style=\"fill:none;stroke:#000000;stroke-linecap:square;stroke-linejoin:miter;stroke-width:0.8;\"/>\n   </g>\n   <g id=\"patch_21\">\n    <path d=\"M 287.775862 7.2 \nL 361.903135 7.2 \n\" style=\"fill:none;stroke:#000000;stroke-linecap:square;stroke-linejoin:miter;stroke-width:0.8;\"/>\n   </g>\n  </g>\n  <g id=\"axes_5\">\n   <g id=\"patch_22\">\n    <path d=\"M 380.134483 81.327273 \nL 454.261755 81.327273 \nL 454.261755 7.2 \nL 380.134483 7.2 \nz\n\" style=\"fill:#ffffff;\"/>\n   </g>\n   <g clip-path=\"url(#pdf04ed333a)\">\n    <image height=\"75\" id=\"imagee3b979c851\" transform=\"scale(1 -1)translate(0 -75)\" width=\"75\" x=\"380.134483\" xlink:href=\"data:image/png;base64,\niVBORw0KGgoAAAANSUhEUgAAAEsAAABLCAYAAAA4TnrqAAAB20lEQVR4nO3bMa5xURiF4X1QiQFIJAyAIdBTqxmHxgA0JqBUqOjoFDoxAFomIAgKinOH8K2VSP7if596Ze+bN7s4ubk3y/M8Tz/y+XzCzXg8Djfr9Vq6b7PZhJt6vS6dpSj87KT/ALEMxDIQy0AsA7EMxDIQy1BSvkmv16t02Pl8DjfFYjHcXC4X6b7T6RRu+Cj9R4hlIJaBWAZiGYhlIJaBWAZiGUrKaD6fS4ctFotw83q9ws3z+ZTum06n4abVakln1Wq1cMPLMhDLQCwDsQzEMhDLQCwDsQylLMvC0fF4lA47HA7hZjgchpv3+y3dt9vtws12u5XOUn4uXpaBWAZiGYhlIJaBWAZiGYhlIJZB+rVyt9uVDpvNZuGm3W6Hm2azKd2nfJ0/Hg/pLAUvy0AsA7EMxDIQy0AsA7EMxDJkyr/QKX+fkFJK/X4/3Nzv93Cj/JtdSindbrdwU61WpbM6nU644WUZiGUgloFYBmIZiGUgloFYBumjVLXf78NNr9cLN4PBQLpvNBqFm3K5LJ1VqVTCDS/LQCwDsQzEMhDLQCwDsQzEMhDL8NMv+O/3G24mk0m4WS6X0n2r1SrcNBoN6axCIX43vCwDsQzEMhDLQCwDsQzEMhDL8AffH2XYFY0QOQAAAABJRU5ErkJggg==\" y=\"-6.327273\"/>\n   </g>\n   <g id=\"matplotlib.axis_9\"/>\n   <g id=\"matplotlib.axis_10\"/>\n   <g id=\"patch_23\">\n    <path d=\"M 380.134483 81.327273 \nL 380.134483 7.2 \n\" style=\"fill:none;stroke:#000000;stroke-linecap:square;stroke-linejoin:miter;stroke-width:0.8;\"/>\n   </g>\n   <g id=\"patch_24\">\n    <path d=\"M 454.261755 81.327273 \nL 454.261755 7.2 \n\" style=\"fill:none;stroke:#000000;stroke-linecap:square;stroke-linejoin:miter;stroke-width:0.8;\"/>\n   </g>\n   <g id=\"patch_25\">\n    <path d=\"M 380.134483 81.327273 \nL 454.261755 81.327273 \n\" style=\"fill:none;stroke:#000000;stroke-linecap:square;stroke-linejoin:miter;stroke-width:0.8;\"/>\n   </g>\n   <g id=\"patch_26\">\n    <path d=\"M 380.134483 7.2 \nL 454.261755 7.2 \n\" style=\"fill:none;stroke:#000000;stroke-linecap:square;stroke-linejoin:miter;stroke-width:0.8;\"/>\n   </g>\n  </g>\n  <g id=\"axes_6\">\n   <g id=\"patch_27\">\n    <path d=\"M 10.7 170.28 \nL 84.827273 170.28 \nL 84.827273 96.152727 \nL 10.7 96.152727 \nz\n\" style=\"fill:#ffffff;\"/>\n   </g>\n   <g clip-path=\"url(#pbcf9937ef9)\">\n    <image height=\"75\" id=\"image4df5a6c93c\" transform=\"scale(1 -1)translate(0 -75)\" width=\"75\" x=\"10.7\" xlink:href=\"data:image/png;base64,\niVBORw0KGgoAAAANSUhEUgAAAEsAAABLCAYAAAA4TnrqAAAB3ElEQVR4nO3bPc4BURyF8Zk3ChoJnQ2IkkJCp9BYiB2IFdgCCtFRjiUo7EBNKXQSna8YS/ifk+je51ef3Js8ucUUpHme50ng8/lEkyRJkmQ2m4WbxWIRbtbrtXRfo9EIN4VCQTpL8fezk/4BYhmIZSCWgVgGYhmIZSCWQfpiS9NUOqzT6YSb6XQabrbbrXRfvV6Xdr/CyzIQy0AsA7EMxDIQy0AsA7EMxDJIX/DX61U67HA4hJtyuRxusiyT7ms2m+Gm3W5LZ5VKpXDDyzIQy0AsA7EMxDIQy0AsA7EM0kfp6/WSDtvtduHmfD6Hm9PpJN03mUzCzXg8ls7q9/vhhpdlIJaBWAZiGYhlIJaBWAZiGYhlkL7gi8WidFiv1ws3yo85lsuldN/lcgk3t9tNOkvByzIQy0AsA7EMxDIQy0AsA7EM0kfp+/2WDrvf7+FmMBiEm+fzKd232WzCTa1Wk84S/knIy3IQy0AsA7EMxDIQy0AsA7EMP/0L3Wq1Cjfz+TzcVKtV6T7lh8HH41E6q9VqhRteloFYBmIZiGUgloFYBmIZiGUglkH6gq9UKtJhw+Ew3IxGo3Cz3++l+7rdbrhRf6fxeDzCDS/LQCwDsQzEMhDLQCwDsQzEMnwByplUNWu9DMIAAAAASUVORK5CYII=\" y=\"-95.28\"/>\n   </g>\n   <g id=\"matplotlib.axis_11\"/>\n   <g id=\"matplotlib.axis_12\"/>\n   <g id=\"patch_28\">\n    <path d=\"M 10.7 170.28 \nL 10.7 96.152727 \n\" style=\"fill:none;stroke:#000000;stroke-linecap:square;stroke-linejoin:miter;stroke-width:0.8;\"/>\n   </g>\n   <g id=\"patch_29\">\n    <path d=\"M 84.827273 170.28 \nL 84.827273 96.152727 \n\" style=\"fill:none;stroke:#000000;stroke-linecap:square;stroke-linejoin:miter;stroke-width:0.8;\"/>\n   </g>\n   <g id=\"patch_30\">\n    <path d=\"M 10.7 170.28 \nL 84.827273 170.28 \n\" style=\"fill:none;stroke:#000000;stroke-linecap:square;stroke-linejoin:miter;stroke-width:0.8;\"/>\n   </g>\n   <g id=\"patch_31\">\n    <path d=\"M 10.7 96.152727 \nL 84.827273 96.152727 \n\" style=\"fill:none;stroke:#000000;stroke-linecap:square;stroke-linejoin:miter;stroke-width:0.8;\"/>\n   </g>\n  </g>\n  <g id=\"axes_7\">\n   <g id=\"patch_32\">\n    <path d=\"M 103.058621 170.28 \nL 177.185893 170.28 \nL 177.185893 96.152727 \nL 103.058621 96.152727 \nz\n\" style=\"fill:#ffffff;\"/>\n   </g>\n   <g clip-path=\"url(#p73bd2e0916)\">\n    <image height=\"75\" id=\"imagee8f16cc69d\" transform=\"scale(1 -1)translate(0 -75)\" width=\"75\" x=\"103.058621\" xlink:href=\"data:image/png;base64,\niVBORw0KGgoAAAANSUhEUgAAAEsAAABLCAYAAAA4TnrqAAABzklEQVR4nO3aLcpyURiF4eeTF4M/oMkmJouTcRQ2R2ARQSwm0VmYrU7AKCZNFsFiUgT1fEN41oIT7ysv9oGbHTbiv6Ioikh8v99sEhERq9Uq3cxms3TzeDyk7w2Hw3SzWCyks/r9frqpSCchIohlIZaBWAZiGYhlIJaBWIY/ZfR8PqXDrtdrulkul+mm1WpJ35tMJulmv99LZ/EoLRmxDMQyEMtALAOxDMQyEMtALIP0gq/VatJho9Eo3VSr1VI2ERGdTifdvF4v6axKJb833CwDsQzEMhDLQCwDsQzEMhDLID1Kf7+fdJjyH4XD4ZBu1J+x3+93ulF+LlZxswzEMhDLQCwDsQzEMhDLQCwDsQzSC/58PkuHTafTdHO73UrZRES02+100+v1pLMU3CwDsQzEMhDLQCwDsQzEMhDLID1KL5eLdNjpdEo36/U63RyPR+l7u90u3dTrdeksBTfLQCwDsQzEMhDLQCwDsQzEMkiP0m63Kx12v9/TzXa7TTefz0f6XrPZTDfqn4cV3CwDsQzEMhDLQCwDsQzEMhDLQCyD9IIfDAbSYfP5PN1sNpt002g0pO+Nx+PSzlJwswzEMhDLQCwDsQzEMhDLQCzDf40mUoseYBGaAAAAAElFTkSuQmCC\" y=\"-95.28\"/>\n   </g>\n   <g id=\"matplotlib.axis_13\"/>\n   <g id=\"matplotlib.axis_14\"/>\n   <g id=\"patch_33\">\n    <path d=\"M 103.058621 170.28 \nL 103.058621 96.152727 \n\" style=\"fill:none;stroke:#000000;stroke-linecap:square;stroke-linejoin:miter;stroke-width:0.8;\"/>\n   </g>\n   <g id=\"patch_34\">\n    <path d=\"M 177.185893 170.28 \nL 177.185893 96.152727 \n\" style=\"fill:none;stroke:#000000;stroke-linecap:square;stroke-linejoin:miter;stroke-width:0.8;\"/>\n   </g>\n   <g id=\"patch_35\">\n    <path d=\"M 103.058621 170.28 \nL 177.185893 170.28 \n\" style=\"fill:none;stroke:#000000;stroke-linecap:square;stroke-linejoin:miter;stroke-width:0.8;\"/>\n   </g>\n   <g id=\"patch_36\">\n    <path d=\"M 103.058621 96.152727 \nL 177.185893 96.152727 \n\" style=\"fill:none;stroke:#000000;stroke-linecap:square;stroke-linejoin:miter;stroke-width:0.8;\"/>\n   </g>\n  </g>\n  <g id=\"axes_8\">\n   <g id=\"patch_37\">\n    <path d=\"M 195.417241 170.28 \nL 269.544514 170.28 \nL 269.544514 96.152727 \nL 195.417241 96.152727 \nz\n\" style=\"fill:#ffffff;\"/>\n   </g>\n   <g clip-path=\"url(#p55213cc0d0)\">\n    <image height=\"75\" id=\"image13499480f4\" transform=\"scale(1 -1)translate(0 -75)\" width=\"75\" x=\"195.417241\" xlink:href=\"data:image/png;base64,\niVBORw0KGgoAAAANSUhEUgAAAEsAAABLCAYAAAA4TnrqAAABxUlEQVR4nO3cscqBYRiH8dcXmUhJiEUWu1U5ASdgsltsTsFRMDsBslodihQDE+U7hPu+ynj95n/PU1fP8GZQ+n6/3yLweDyiSVEURTGfz8PN6XQKN41GI3Vfq9UKN5PJJHXWcrkMN3+pk1QUhbEQYwHGAowFGAswFmAsoJwZvd/v1GGv1yvc1Gq1cNPv91P3Zc5qt9upswaDQbjxZQHGAowFGAswFmAswFiAsQBjAaXMz8qfzyd12PF4DDebzSbcTKfT1H2LxSLc9Hq91Fn1ej3c+LIAYwHGAowFGAswFmAswFhA6mflcjk1K8bjcbjpdDrh5nK5pO5brVbhJvOxmeXLAowFGAswFmAswFiAsQBjAcYCUp/m9/s9ddj1eg03ma/83W6Xuu92u4WbbrebOivDlwUYCzAWYCzAWICxAGMBxgJSH6Xn8zl1WGY3HA7DTbVaTd2X/Vj+FV8WYCzAWICxAGMBxgKMBRgLSH2UPp/P1GHb7TbcNJvNcJP9X4dKpZLa/YovCzAWYCzAWICxAGMBxgKMBRgLSH3Bz2az1GH7/T7cHA6HcLNer1P3jUaj1O5XfFmAsQBjAcYCjAUYCzAWYCzgH8joRLcG3dvjAAAAAElFTkSuQmCC\" y=\"-95.28\"/>\n   </g>\n   <g id=\"matplotlib.axis_15\"/>\n   <g id=\"matplotlib.axis_16\"/>\n   <g id=\"patch_38\">\n    <path d=\"M 195.417241 170.28 \nL 195.417241 96.152727 \n\" style=\"fill:none;stroke:#000000;stroke-linecap:square;stroke-linejoin:miter;stroke-width:0.8;\"/>\n   </g>\n   <g id=\"patch_39\">\n    <path d=\"M 269.544514 170.28 \nL 269.544514 96.152727 \n\" style=\"fill:none;stroke:#000000;stroke-linecap:square;stroke-linejoin:miter;stroke-width:0.8;\"/>\n   </g>\n   <g id=\"patch_40\">\n    <path d=\"M 195.417241 170.28 \nL 269.544514 170.28 \n\" style=\"fill:none;stroke:#000000;stroke-linecap:square;stroke-linejoin:miter;stroke-width:0.8;\"/>\n   </g>\n   <g id=\"patch_41\">\n    <path d=\"M 195.417241 96.152727 \nL 269.544514 96.152727 \n\" style=\"fill:none;stroke:#000000;stroke-linecap:square;stroke-linejoin:miter;stroke-width:0.8;\"/>\n   </g>\n  </g>\n  <g id=\"axes_9\">\n   <g id=\"patch_42\">\n    <path d=\"M 287.775862 170.28 \nL 361.903135 170.28 \nL 361.903135 96.152727 \nL 287.775862 96.152727 \nz\n\" style=\"fill:#ffffff;\"/>\n   </g>\n   <g clip-path=\"url(#p701c4c3209)\">\n    <image height=\"75\" id=\"imagef2b46d3cf9\" transform=\"scale(1 -1)translate(0 -75)\" width=\"75\" x=\"287.775862\" xlink:href=\"data:image/png;base64,\niVBORw0KGgoAAAANSUhEUgAAAEsAAABLCAYAAAA4TnrqAAABzElEQVR4nO3cPYoCURBF4Wp7QIU2UIxMhBZM3IZgILgeV+BCXIJgYOoK3IOZGBn4i/Qsoe4Fw/PFRT05vOAxjBZN0zSREEYiIuJwOKQz6/U6nbnf79J5m80mnVksFtKuXq+XzrSkTYgIYlmIZSCWgVgGYhmIZSCW4U8Zut1u0rLtdpvOdLvddKYoCuk85XO1Wr+7D9wsA7EMxDIQy0AsA7EMxDIQy0Asg/SCf7/f0jLlRf18PtMZ9c/Yo9Eonel0OtIuBTfLQCwDsQzEMhDLQCwDsQzEMkiPUvVhN5vN0pn9fp/OjMdj6by6rtOZsiylXQpuloFYBmIZiGUgloFYBmIZiGUglkF6wX+/X2lZVVU/mblcLtJ5p9MpnZlMJtIu5aXPzTIQy0AsA7EMxDIQy0AsA7EM0qP08/lIy67XazoznU7TGfV/K3a7XTozn8+lXYPBIJ3hZhmIZSCWgVgGYhmIZSCWgVgG6VHabrelZcpX387nczrT7/el816vVzrzeDykXQpuloFYBmIZiGUgloFYBmIZiGUglkF6wSu/WhYRsVwu05nj8ZjOKF+zi4hYrVbpzHA4lHYpuFkGYhmIZSCWgVgGYhmIZSCW4R89JE0VJdmAhwAAAABJRU5ErkJggg==\" y=\"-95.28\"/>\n   </g>\n   <g id=\"matplotlib.axis_17\"/>\n   <g id=\"matplotlib.axis_18\"/>\n   <g id=\"patch_43\">\n    <path d=\"M 287.775862 170.28 \nL 287.775862 96.152727 \n\" style=\"fill:none;stroke:#000000;stroke-linecap:square;stroke-linejoin:miter;stroke-width:0.8;\"/>\n   </g>\n   <g id=\"patch_44\">\n    <path d=\"M 361.903135 170.28 \nL 361.903135 96.152727 \n\" style=\"fill:none;stroke:#000000;stroke-linecap:square;stroke-linejoin:miter;stroke-width:0.8;\"/>\n   </g>\n   <g id=\"patch_45\">\n    <path d=\"M 287.775862 170.28 \nL 361.903135 170.28 \n\" style=\"fill:none;stroke:#000000;stroke-linecap:square;stroke-linejoin:miter;stroke-width:0.8;\"/>\n   </g>\n   <g id=\"patch_46\">\n    <path d=\"M 287.775862 96.152727 \nL 361.903135 96.152727 \n\" style=\"fill:none;stroke:#000000;stroke-linecap:square;stroke-linejoin:miter;stroke-width:0.8;\"/>\n   </g>\n  </g>\n  <g id=\"axes_10\">\n   <g id=\"patch_47\">\n    <path d=\"M 380.134483 170.28 \nL 454.261755 170.28 \nL 454.261755 96.152727 \nL 380.134483 96.152727 \nz\n\" style=\"fill:#ffffff;\"/>\n   </g>\n   <g clip-path=\"url(#p66a8c62de1)\">\n    <image height=\"75\" id=\"image80f64afe02\" transform=\"scale(1 -1)translate(0 -75)\" width=\"75\" x=\"380.134483\" xlink:href=\"data:image/png;base64,\niVBORw0KGgoAAAANSUhEUgAAAEsAAABLCAYAAAA4TnrqAAABwklEQVR4nO3aO6oqURBA0e7HFYwURMRETDR1CM7BAZk5EBN1Do7EwMhA/EV+AvHTdwhVGy4v2isu6sDmBMfGsqqqqviPttttODOZTFK7ms1mOLNYLFK7+v1+OPMvtUlFURgLMRZgLMBYgLEAYwHGAn4yQ9l36/v9Dmcul8ufzGTPK8sytSvDmwUYCzAWYCzAWICxAGMBxgKMBaRe8LfbLbXseDyGM9frNZxpNBqp857PZzhTr9dTuzK8WYCxAGMBxgKMBRgLMBZgLCD1KD2dTqlly+UynHk8HuHM9/tNnXe/38OZ7IO60+mEM94swFiAsQBjAcYCjAUYCzAWYCwg9YLf7XapZfP5PJyp1WrhzPl8Tp2X+TWQfcFneLMAYwHGAowFGAswFmAswFhA6lE6HA5Ty8bjcTizXq/DmVarlTov80/k/X6f2jUajcIZbxZgLMBYgLEAYwHGAowFGAtIPUp7vV5q2XQ6DWder1c4s1qtUud1u91w5nA4pHZ9Pp9wxpsFGAswFmAswFiAsQBjAcYCjAWkXvBZg8EgnJnNZuHMZrNJnZf5ZNxut1O7Mp+ovVmAsQBjAcYCjAUYCzAWYCzgFwMWXR1m6qmTAAAAAElFTkSuQmCC\" y=\"-95.28\"/>\n   </g>\n   <g id=\"matplotlib.axis_19\"/>\n   <g id=\"matplotlib.axis_20\"/>\n   <g id=\"patch_48\">\n    <path d=\"M 380.134483 170.28 \nL 380.134483 96.152727 \n\" style=\"fill:none;stroke:#000000;stroke-linecap:square;stroke-linejoin:miter;stroke-width:0.8;\"/>\n   </g>\n   <g id=\"patch_49\">\n    <path d=\"M 454.261755 170.28 \nL 454.261755 96.152727 \n\" style=\"fill:none;stroke:#000000;stroke-linecap:square;stroke-linejoin:miter;stroke-width:0.8;\"/>\n   </g>\n   <g id=\"patch_50\">\n    <path d=\"M 380.134483 170.28 \nL 454.261755 170.28 \n\" style=\"fill:none;stroke:#000000;stroke-linecap:square;stroke-linejoin:miter;stroke-width:0.8;\"/>\n   </g>\n   <g id=\"patch_51\">\n    <path d=\"M 380.134483 96.152727 \nL 454.261755 96.152727 \n\" style=\"fill:none;stroke:#000000;stroke-linecap:square;stroke-linejoin:miter;stroke-width:0.8;\"/>\n   </g>\n  </g>\n </g>\n <defs>\n  <clipPath id=\"pb5a67e0b49\">\n   <rect height=\"74.127273\" width=\"74.127273\" x=\"10.7\" y=\"7.2\"/>\n  </clipPath>\n  <clipPath id=\"pe260b72314\">\n   <rect height=\"74.127273\" width=\"74.127273\" x=\"103.058621\" y=\"7.2\"/>\n  </clipPath>\n  <clipPath id=\"p57abcba2a5\">\n   <rect height=\"74.127273\" width=\"74.127273\" x=\"195.417241\" y=\"7.2\"/>\n  </clipPath>\n  <clipPath id=\"p9c8cc8fc5a\">\n   <rect height=\"74.127273\" width=\"74.127273\" x=\"287.775862\" y=\"7.2\"/>\n  </clipPath>\n  <clipPath id=\"pdf04ed333a\">\n   <rect height=\"74.127273\" width=\"74.127273\" x=\"380.134483\" y=\"7.2\"/>\n  </clipPath>\n  <clipPath id=\"pbcf9937ef9\">\n   <rect height=\"74.127273\" width=\"74.127273\" x=\"10.7\" y=\"96.152727\"/>\n  </clipPath>\n  <clipPath id=\"p73bd2e0916\">\n   <rect height=\"74.127273\" width=\"74.127273\" x=\"103.058621\" y=\"96.152727\"/>\n  </clipPath>\n  <clipPath id=\"p55213cc0d0\">\n   <rect height=\"74.127273\" width=\"74.127273\" x=\"195.417241\" y=\"96.152727\"/>\n  </clipPath>\n  <clipPath id=\"p701c4c3209\">\n   <rect height=\"74.127273\" width=\"74.127273\" x=\"287.775862\" y=\"96.152727\"/>\n  </clipPath>\n  <clipPath id=\"p66a8c62de1\">\n   <rect height=\"74.127273\" width=\"74.127273\" x=\"380.134483\" y=\"96.152727\"/>\n  </clipPath>\n </defs>\n</svg>\n",
      "image/png": "[encoded data removed]"
     },
     "metadata": {}
    }
   ],
   "source": [
    "fig, ax = plt.subplots(2, 5, figsize=(8, 3))\n",
    "centers = kmeans.cluster_centers_.reshape(10, 8, 8)\n",
    "for axi, center in zip(ax.flat, centers):\n",
    "    axi.set(xticks=[], yticks=[])\n",
    "    axi.imshow(center, interpolation='nearest', cmap=plt.cm.binary)"
   ]
  },
  {
   "source": [
    "From the data above, use K Means to help you identify the two most similar characters from K Means perspective. "
   ],
   "cell_type": "markdown",
   "metadata": {}
  },
  {
   "cell_type": "code",
   "execution_count": 1,
   "metadata": {},
   "outputs": [],
   "source": [
    "# ..."
   ]
  },
  {
   "cell_type": "code",
   "execution_count": null,
   "metadata": {},
   "outputs": [],
   "source": []
  }
 ]
}