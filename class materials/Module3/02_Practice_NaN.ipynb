{
 "metadata": {
  "language_info": {
   "codemirror_mode": {
    "name": "ipython",
    "version": 3
   },
   "file_extension": ".py",
   "mimetype": "text/x-python",
   "name": "python",
   "nbconvert_exporter": "python",
   "pygments_lexer": "ipython3",
   "version": "3.8.11"
  },
  "orig_nbformat": 2,
  "kernelspec": {
   "name": "python3",
   "display_name": "Python 3.8.11 64-bit ('iccs161 ver2': conda)"
  },
  "interpreter": {
   "hash": "6bcc8282a6c303b6ee86c7e0d9a43121f90860270f44aee589454620e8cc1f45"
  }
 },
 "nbformat": 4,
 "nbformat_minor": 2,
 "cells": [
  {
   "cell_type": "markdown",
   "source": [
    "# In-Class Activities (ICA): \n",
    "## Dealing with NaN"
   ],
   "metadata": {}
  },
  {
   "cell_type": "code",
   "execution_count": 2,
   "source": [
    "# import things\r\n",
    "import pandas as pd\r\n",
    "import numpy as np\r\n",
    "from numpy import NaN,NAN,nan"
   ],
   "outputs": [],
   "metadata": {}
  },
  {
   "cell_type": "code",
   "execution_count": 3,
   "source": [
    "# load data from kaggle_supermarket_nan.csv\r\n",
    "df = pd.read_csv('./datasets/kaggle_supermarket_nan.csv')"
   ],
   "outputs": [],
   "metadata": {}
  },
  {
   "cell_type": "markdown",
   "source": [],
   "metadata": {}
  },
  {
   "cell_type": "markdown",
   "source": [
    "# Task #1\n",
    "Identify columns with missing data\n"
   ],
   "metadata": {}
  },
  {
   "cell_type": "code",
   "execution_count": 7,
   "source": [
    "num_rows = df.shape[0]\r\n",
    "num_missing = num_rows - df.count()\r\n",
    "print(num_missing)"
   ],
   "outputs": [
    {
     "output_type": "stream",
     "name": "stdout",
     "text": [
      "Invoice ID                  5\n",
      "Branch                      0\n",
      "City                       12\n",
      "Customer type              13\n",
      "Gender                      0\n",
      "Product line                0\n",
      "Unit price                  0\n",
      "Quantity                   21\n",
      "Tax 5%                      0\n",
      "Total                       0\n",
      "Date                        0\n",
      "Time                        0\n",
      "Payment                     0\n",
      "cogs                        0\n",
      "gross margin percentage     0\n",
      "gross income                0\n",
      "Rating                     18\n",
      "dtype: int64\n"
     ]
    }
   ],
   "metadata": {}
  },
  {
   "cell_type": "markdown",
   "source": [
    "# Task #2\n",
    "Identify number of missing data"
   ],
   "metadata": {}
  },
  {
   "cell_type": "code",
   "execution_count": 8,
   "source": [
    "print(num_missing.sum())"
   ],
   "outputs": [
    {
     "output_type": "stream",
     "name": "stdout",
     "text": [
      "69\n"
     ]
    }
   ],
   "metadata": {}
  },
  {
   "cell_type": "markdown",
   "source": [
    "Task #3\n",
    "Discuss and explain how would you deal with the missing data of each column"
   ],
   "metadata": {}
  },
  {
   "cell_type": "markdown",
   "source": [
    "Answer:"
   ],
   "metadata": {}
  }
 ]
}