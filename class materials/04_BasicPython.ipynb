{
 "cells": [
  {
   "cell_type": "markdown",
   "metadata": {},
   "source": [
    "## 1. Numbers\n",
    "### 1.1 Integer \n",
    "An integer is a whole number such as:1, 2, -5, 0 \n",
    "\n",
    "In the cell below, try (type):\n",
    "\n",
    "```python\n",
    "1 + 1\n",
    "10 - 1\n",
    "```\n",
    "\n",
    "Python will run the first line which yields 2 and it will run the second line which yields 9. The result below the cell will be the one from the last line only."
   ]
  },
  {
   "cell_type": "code",
   "execution_count": 1,
   "metadata": {},
   "outputs": [
    {
     "data": {
      "text/plain": [
       "9"
      ]
     },
     "execution_count": 1,
     "metadata": {},
     "output_type": "execute_result"
    }
   ],
   "source": [
    "10 - 1"
   ]
  },
  {
   "cell_type": "code",
   "execution_count": 2,
   "metadata": {},
   "outputs": [
    {
     "data": {
      "text/plain": [
       "8"
      ]
     },
     "execution_count": 2,
     "metadata": {},
     "output_type": "execute_result"
    }
   ],
   "source": [
    "2**3"
   ]
  },
  {
   "cell_type": "code",
   "execution_count": 3,
   "metadata": {},
   "outputs": [],
   "source": [
    "a = 555"
   ]
  },
  {
   "cell_type": "markdown",
   "metadata": {},
   "source": [
    "## Basic Python for Data Science - 1\n",
    "### Basic Data Types\n",
    "\n",
    "In the field of data science, the two most popular programming languages are **R** and **Python**. This course, we will use Python. Python is a very intuitive programming language. Many schools in Thailand start teaching Python in the primary school level. For our course, we assume that the students **have no prior knowledge in Python programming**. A very basic Python programming concepts will be covered so that students can use Python to test/practice with others tools in data science. Students will gain more knowledge about Python along the way throughout the term. \n",
    "\n",
    "_Note: The focus of this course is not about Python programming. Therefore, the code aims to be clean and concise to help us understand basic concepts in data science, not for the best practice in Python programming or for the fastest execution._\n",
    "\n",
    "\n",
    "Here we will learn the following to pics\n",
    "\n",
    "        1. Number \n",
    "            1.1 Integer\n",
    "            1.2 Float\n",
    "        2. Variable & the assignment operator\n",
    "            2.1 Creating a variable\n",
    "        3. String\n",
    "            3.1 Creating a string\n",
    "            3.2 Mixing string & numbers\n",
    "\n"
   ]
  },
  {
   "cell_type": "code",
   "execution_count": 4,
   "metadata": {},
   "outputs": [
    {
     "data": {
      "text/plain": [
       "9"
      ]
     },
     "execution_count": 4,
     "metadata": {},
     "output_type": "execute_result"
    }
   ],
   "source": [
    "1 + 1\n",
    "10 - 1\n",
    "# will see only the last output"
   ]
  },
  {
   "cell_type": "code",
   "execution_count": 5,
   "metadata": {},
   "outputs": [
    {
     "name": "stdout",
     "output_type": "stream",
     "text": [
      "2\n",
      "9\n"
     ]
    }
   ],
   "source": [
    "# print each output\n",
    "print(1+1)\n",
    "print(10-1)"
   ]
  },
  {
   "cell_type": "markdown",
   "metadata": {},
   "source": [
    "### 1.2 Float\n",
    "**Float** is a number with a decimal point such as: 0.5, -2.5, 3.14, 0.0"
   ]
  },
  {
   "cell_type": "code",
   "execution_count": 6,
   "metadata": {},
   "outputs": [
    {
     "data": {
      "text/plain": [
       "2.5"
      ]
     },
     "execution_count": 6,
     "metadata": {},
     "output_type": "execute_result"
    }
   ],
   "source": [
    "5.0 * 0.5"
   ]
  },
  {
   "cell_type": "markdown",
   "metadata": {},
   "source": [
    "When we divide two integer numbers, we will get a float as a result.\n"
   ]
  },
  {
   "cell_type": "code",
   "execution_count": 7,
   "metadata": {},
   "outputs": [
    {
     "data": {
      "text/plain": [
       "1.0"
      ]
     },
     "execution_count": 7,
     "metadata": {},
     "output_type": "execute_result"
    }
   ],
   "source": [
    "# int / int\n",
    "1/1"
   ]
  },
  {
   "cell_type": "code",
   "execution_count": 8,
   "metadata": {},
   "outputs": [
    {
     "data": {
      "text/plain": [
       "0.5"
      ]
     },
     "execution_count": 8,
     "metadata": {},
     "output_type": "execute_result"
    }
   ],
   "source": [
    "# int / int\n",
    "1/2"
   ]
  },
  {
   "cell_type": "markdown",
   "metadata": {},
   "source": [
    "## 2. Variables & the assignment operator\n",
    "    2.1 Creating a variable\n",
    "    When we have a value and we want to use this value in other places. Typing the value every time can be time consuming and it more error-prone. For example, if your gpa is 3.0918, typing this number very time we need it is not a good approach. We can assign this value to something called a variable. You can imagine a variable as a box that you can put(assing) a value into it. You get to choose the name of the variable and later one you can refer to the value by the varialbe name.   \n",
    "\n",
    "Notice that the = symbol is _**not**_ really an equal sign. This is called **an assignment operator**. This will take value from the right side and then assign to the left (aka, put in the box)."
   ]
  },
  {
   "cell_type": "code",
   "execution_count": 9,
   "metadata": {},
   "outputs": [],
   "source": [
    "my_gpa = 2.015\n",
    "your_gpa = 3.0918\n",
    "average_gpa = (my_gpa + your_gpa)/2"
   ]
  },
  {
   "cell_type": "markdown",
   "metadata": {},
   "source": [
    "At this point, you may think nothing happens since you don't see any output. Actually, we just created 3 variables. You can view them (and their values) by clicking the icon **Show variables active in jupyter kernel**  (the one that looks like a table)"
   ]
  },
  {
   "cell_type": "markdown",
   "metadata": {},
   "source": [
    "Naming variables. \n",
    "Python has rules regading the way we can name our varibles. \n",
    "The main rules are:\n",
    "\n",
    "(1) Start with a character\n",
    "\n",
    "(2) Contain no space or any special symbol\n",
    "\n",
    "_There are more rules that this. I am trying to be a minimalist here. :)_\n",
    "\n"
   ]
  },
  {
   "cell_type": "code",
   "execution_count": 10,
   "metadata": {},
   "outputs": [],
   "source": [
    "x = 10\n",
    "Pi = 3.14\n",
    "my_salary = 18000\n",
    "mySalary = 24000"
   ]
  },
  {
   "cell_type": "markdown",
   "metadata": {},
   "source": [
    "If we violate Python rules, we will get error messages."
   ]
  },
  {
   "cell_type": "code",
   "execution_count": 11,
   "metadata": {},
   "outputs": [
    {
     "ename": "SyntaxError",
     "evalue": "invalid syntax (Temp/ipykernel_12588/3329375664.py, line 1)",
     "output_type": "error",
     "traceback": [
      "\u001b[1;36m  File \u001b[1;32m\"C:\\Users\\uSeR\\AppData\\Local\\Temp/ipykernel_12588/3329375664.py\"\u001b[1;36m, line \u001b[1;32m1\u001b[0m\n\u001b[1;33m    my salary = 18000\u001b[0m\n\u001b[1;37m       ^\u001b[0m\n\u001b[1;31mSyntaxError\u001b[0m\u001b[1;31m:\u001b[0m invalid syntax\n"
     ]
    }
   ],
   "source": [
    "my salary = 18000\n",
    "2months = 36000"
   ]
  },
  {
   "cell_type": "markdown",
   "metadata": {},
   "source": [
    "**Comments** , we can create a comment by using #.\n",
    "Any code after # to the end of the line will be ignored by Python."
   ]
  },
  {
   "cell_type": "code",
   "execution_count": 13,
   "metadata": {},
   "outputs": [
    {
     "name": "stdout",
     "output_type": "stream",
     "text": [
      "6\n"
     ]
    }
   ],
   "source": [
    "# This line begins with #. Thefore, Python will not run this line.\n",
    "# We can write anything. It won't create any error.\n",
    "# We normally use this to write COMMENTS.\n",
    "\n",
    "# We use comments to describe or provide additional context to whomever reading this code.\n",
    "# Most likely, that person will be you (in the near future).\n",
    "\n",
    "x = 5\n",
    "x = x + 1\n",
    "\n",
    "# The code above IS NOT a math equation!!!\n",
    "# It is\n",
    "#          variable <---  SOMETHING\n",
    "#\n",
    "# Python will do that SOMETHING first, then whatever that value is, it will assign\n",
    "# that value to the variable on the left\n",
    "# Let's see the value of x\n",
    "\n",
    "x  # Python will run the code before the first # sign. However, these two sentences will be ignored.\n",
    "print(x)"
   ]
  },
  {
   "cell_type": "markdown",
   "metadata": {},
   "source": [
    "## 3. String\n",
    "A string is a series of characters.\n",
    "\n",
    "### 3.1 Creating a string\n",
    "We can create a string (text) using single quotes or doulbe quotes."
   ]
  },
  {
   "cell_type": "code",
   "execution_count": null,
   "metadata": {},
   "outputs": [],
   "source": [
    "# using single quotes\n",
    "'This is MUIC'"
   ]
  },
  {
   "cell_type": "code",
   "execution_count": null,
   "metadata": {},
   "outputs": [],
   "source": [
    "# using double quotes\n",
    "\"This is also MUIC.\""
   ]
  },
  {
   "cell_type": "markdown",
   "metadata": {},
   "source": [
    "The may choose to use \" if we plan to have ' inside the string, and vice versa."
   ]
  },
  {
   "cell_type": "code",
   "execution_count": 23,
   "metadata": {},
   "outputs": [
    {
     "data": {
      "text/plain": [
       "\"It's me.\""
      ]
     },
     "execution_count": 23,
     "metadata": {},
     "output_type": "execute_result"
    }
   ],
   "source": [
    "# Having a single quote inside double quotes\n",
    "\"It's me.\""
   ]
  },
  {
   "cell_type": "code",
   "execution_count": 24,
   "metadata": {},
   "outputs": [
    {
     "data": {
      "text/plain": [
       "'Hello \"DUDE\" ...'"
      ]
     },
     "execution_count": 24,
     "metadata": {},
     "output_type": "execute_result"
    }
   ],
   "source": [
    "# Having a double quote inside single quotes\n",
    "\n",
    "'Hello \"DUDE\" ...'"
   ]
  },
  {
   "cell_type": "markdown",
   "metadata": {},
   "source": [
    "If you want to create a string but forget to put them inside '  ' or \"   \", we will get an error message."
   ]
  },
  {
   "cell_type": "code",
   "execution_count": null,
   "metadata": {},
   "outputs": [],
   "source": [
    "Let's pretend to forget the quotes."
   ]
  },
  {
   "cell_type": "markdown",
   "metadata": {},
   "source": [
    "### 3.2 Mixing string & numbers\n"
   ]
  },
  {
   "cell_type": "code",
   "execution_count": 22,
   "metadata": {},
   "outputs": [
    {
     "name": "stdout",
     "output_type": "stream",
     "text": [
      "There are 3 cars!\n",
      "There are 3 car\n"
     ]
    }
   ],
   "source": [
    "x = 3\n",
    "b = \"There are {spot_one} cars!\".format(spot_one=x)\n",
    "f = f\"There are {x} car\"\n",
    "print(b)\n",
    "print(f)"
   ]
  },
  {
   "cell_type": "code",
   "execution_count": null,
   "metadata": {},
   "outputs": [],
   "source": [
    "b = 3\n",
    "c = 4\n",
    "\"I have {spot_one} brothers and {spot_two} sisters.\".format(spot_one = b, spot_two = c)"
   ]
  },
  {
   "cell_type": "code",
   "execution_count": null,
   "metadata": {},
   "outputs": [],
   "source": [
    "d = 2\n",
    "unit = \"cars\"\n",
    "\"He has {spot_one} {spot_two}.\".format(spot_one = d, spot_two = unit)"
   ]
  },
  {
   "cell_type": "markdown",
   "metadata": {},
   "source": [
    "### Using f-string\n",
    "f-string as a newer way of formatting strings.\n",
    "This looks a bit strange to have a letter ( f or F ) in front of our string. This letter is a signal to tell python that during run time, change the placeholder to the real value."
   ]
  },
  {
   "cell_type": "code",
   "execution_count": null,
   "metadata": {},
   "outputs": [],
   "source": [
    "\"This line is just a string. It will never change {2*3}\""
   ]
  },
  {
   "cell_type": "markdown",
   "metadata": {},
   "source": [
    "Now, we will create an f-string by adding a letter f in front of the string."
   ]
  },
  {
   "cell_type": "code",
   "execution_count": 25,
   "metadata": {},
   "outputs": [
    {
     "data": {
      "text/plain": [
       "'A part inside this string will be changed during runtime. 6'"
      ]
     },
     "execution_count": 25,
     "metadata": {},
     "output_type": "execute_result"
    }
   ],
   "source": [
    "f\"A part inside this string will be changed during runtime. {2*3}\""
   ]
  },
  {
   "cell_type": "markdown",
   "metadata": {},
   "source": [
    "We can also use with variables.\n",
    "Try:\n",
    "```python\n",
    "x = 3\n",
    "unit = \"cars\"\n",
    "sentence = f\"Tom has {x} {unit}.\"\n",
    "sentence\n",
    "```"
   ]
  },
  {
   "cell_type": "code",
   "execution_count": null,
   "metadata": {},
   "outputs": [],
   "source": [
    "x = 3\n",
    "unit = \"cars\"\n",
    "sentence = f\"Tom has {x} {unit}.\"\n",
    "sentence"
   ]
  },
  {
   "cell_type": "markdown",
   "metadata": {},
   "source": []
  }
 ],
 "metadata": {
  "interpreter": {
   "hash": "6bcc8282a6c303b6ee86c7e0d9a43121f90860270f44aee589454620e8cc1f45"
  },
  "kernelspec": {
   "display_name": "Python 3.8.11 64-bit ('iccs161 ver2': conda)",
   "name": "python3"
  },
  "language_info": {
   "codemirror_mode": {
    "name": "ipython",
    "version": 3
   },
   "file_extension": ".py",
   "mimetype": "text/x-python",
   "name": "python",
   "nbconvert_exporter": "python",
   "pygments_lexer": "ipython3",
   "version": "3.8.11"
  },
  "orig_nbformat": 2
 },
 "nbformat": 4,
 "nbformat_minor": 2
}
