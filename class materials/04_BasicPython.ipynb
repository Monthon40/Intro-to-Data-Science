{
 "cells": [
  {
   "cell_type": "markdown",
   "source": [
    "## 1. Numbers\n",
    "### 1.1 Integer \n",
    "An integer is a whole number such as:1, 2, -5, 0 \n",
    "\n",
    "In the cell below, try (type):\n",
    "\n",
    "```python\n",
    "1 + 1\n",
    "10 - 1\n",
    "```\n",
    "\n",
    "Python will run the first line which yields 2 and it will run the second line which yields 9. The result below the cell will be the one from the last line only."
   ],
   "metadata": {}
  },
  {
   "cell_type": "code",
   "execution_count": 1,
   "source": [
    "10 - 1"
   ],
   "outputs": [
    {
     "output_type": "execute_result",
     "data": {
      "text/plain": [
       "9"
      ]
     },
     "metadata": {},
     "execution_count": 1
    }
   ],
   "metadata": {}
  },
  {
   "cell_type": "code",
   "execution_count": 2,
   "source": [
    "2**3"
   ],
   "outputs": [
    {
     "output_type": "execute_result",
     "data": {
      "text/plain": [
       "8"
      ]
     },
     "metadata": {},
     "execution_count": 2
    }
   ],
   "metadata": {}
  },
  {
   "cell_type": "code",
   "execution_count": 3,
   "source": [
    "a = 555"
   ],
   "outputs": [],
   "metadata": {}
  },
  {
   "cell_type": "markdown",
   "source": [
    "## Basic Python for Data Science - 1\n",
    "### Basic Data Types\n",
    "\n",
    "In the field of data science, the two most popular programming languages are **R** and **Python**. This course, we will use Python. Python is a very intuitive programming language. Many schools in Thailand start teaching Python in the primary school level. For our course, we assume that the students **have no prior knowledge in Python programming**. A very basic Python programming concepts will be covered so that students can use Python to test/practice with others tools in data science. Students will gain more knowledge about Python along the way throughout the term. \n",
    "\n",
    "_Note: The focus of this course is not about Python programming. Therefore, the code aims to be clean and concise to help us understand basic concepts in data science, not for the best practice in Python programming or for the fastest execution._\n",
    "\n",
    "\n",
    "Here we will learn the following to pics\n",
    "\n",
    "        1. Number \n",
    "            1.1 Integer\n",
    "            1.2 Float\n",
    "        2. Variable & the assignment operator\n",
    "            2.1 Creating a variable\n",
    "        3. String\n",
    "            3.1 Creating a string\n",
    "            3.2 Mixing string & numbers\n",
    "\n"
   ],
   "metadata": {}
  },
  {
   "cell_type": "code",
   "execution_count": 4,
   "source": [
    "1 + 1\n",
    "10 - 1\n",
    "# will see only the last output"
   ],
   "outputs": [
    {
     "output_type": "execute_result",
     "data": {
      "text/plain": [
       "9"
      ]
     },
     "metadata": {},
     "execution_count": 4
    }
   ],
   "metadata": {}
  },
  {
   "cell_type": "code",
   "execution_count": 5,
   "source": [
    "# print each output\n",
    "print(1+1)\n",
    "print(10-1)"
   ],
   "outputs": [
    {
     "output_type": "stream",
     "name": "stdout",
     "text": [
      "2\n",
      "9\n"
     ]
    }
   ],
   "metadata": {}
  },
  {
   "cell_type": "markdown",
   "source": [
    "### 1.2 Float\n",
    "**Float** is a number with a decimal point such as: 0.5, -2.5, 3.14, 0.0"
   ],
   "metadata": {}
  },
  {
   "cell_type": "code",
   "execution_count": 6,
   "source": [
    "5.0 * 0.5"
   ],
   "outputs": [
    {
     "output_type": "execute_result",
     "data": {
      "text/plain": [
       "2.5"
      ]
     },
     "metadata": {},
     "execution_count": 6
    }
   ],
   "metadata": {}
  },
  {
   "cell_type": "markdown",
   "source": [
    "When we divide two integer numbers, we will get a float as a result.\n"
   ],
   "metadata": {}
  },
  {
   "cell_type": "code",
   "execution_count": 7,
   "source": [
    "# int / int\n",
    "1/1"
   ],
   "outputs": [
    {
     "output_type": "execute_result",
     "data": {
      "text/plain": [
       "1.0"
      ]
     },
     "metadata": {},
     "execution_count": 7
    }
   ],
   "metadata": {}
  },
  {
   "cell_type": "code",
   "execution_count": 8,
   "source": [
    "# int / int\n",
    "1/2"
   ],
   "outputs": [
    {
     "output_type": "execute_result",
     "data": {
      "text/plain": [
       "0.5"
      ]
     },
     "metadata": {},
     "execution_count": 8
    }
   ],
   "metadata": {}
  },
  {
   "cell_type": "markdown",
   "source": [
    "## 2. Variables & the assignment operator\n",
    "    2.1 Creating a variable\n",
    "    When we have a value and we want to use this value in other places. Typing the value every time can be time consuming and it more error-prone. For example, if your gpa is 3.0918, typing this number very time we need it is not a good approach. We can assign this value to something called a variable. You can imagine a variable as a box that you can put(assing) a value into it. You get to choose the name of the variable and later one you can refer to the value by the varialbe name.   \n",
    "\n",
    "Notice that the = symbol is _**not**_ really an equal sign. This is called **an assignment operator**. This will take value from the right side and then assign to the left (aka, put in the box)."
   ],
   "metadata": {}
  },
  {
   "cell_type": "code",
   "execution_count": 9,
   "source": [
    "my_gpa = 2.015\n",
    "your_gpa = 3.0918\n",
    "average_gpa = (my_gpa + your_gpa)/2"
   ],
   "outputs": [],
   "metadata": {}
  },
  {
   "cell_type": "markdown",
   "source": [
    "At this point, you may think nothing happens since you don't see any output. Actually, we just created 3 variables. You can view them (and their values) by clicking the icon **Show variables active in jupyter kernel**  (the one that looks like a table)"
   ],
   "metadata": {}
  },
  {
   "cell_type": "markdown",
   "source": [
    "Naming variables. \n",
    "Python has rules regading the way we can name our varibles. \n",
    "The main rules are:\n",
    "\n",
    "(1) Start with a character\n",
    "\n",
    "(2) Contain no space or any special symbol\n",
    "\n",
    "_There are more rules that this. I am trying to be a minimalist here. :)_\n",
    "\n"
   ],
   "metadata": {}
  },
  {
   "cell_type": "code",
   "execution_count": null,
   "source": [
    "x = 10\n",
    "Pi = 3.14\n",
    "my_salary = 18000\n",
    "mySalary = 24000"
   ],
   "outputs": [],
   "metadata": {}
  },
  {
   "cell_type": "markdown",
   "source": [
    "If we violate Python rules, we will get error messages."
   ],
   "metadata": {}
  },
  {
   "cell_type": "code",
   "execution_count": null,
   "source": [
    "my salary = 18000\n",
    "2months = 36000"
   ],
   "outputs": [],
   "metadata": {}
  },
  {
   "cell_type": "markdown",
   "source": [
    "**Comments** , we can create a comment by using #.\n",
    "Any code after # to the end of the line will be ignored by Python."
   ],
   "metadata": {}
  },
  {
   "cell_type": "code",
   "execution_count": null,
   "source": [
    "# This line begins with #. Thefore, Python will not run this line.\n",
    "# We can write anything. It won't create any error.\n",
    "# We normally use this to write COMMENTS.\n",
    "\n",
    "# We use comments to describe or provide additional context to whomever reading this code.\n",
    "# Most likely, that person will be you (in the near future).\n",
    "\n",
    "x = 5\n",
    "x = x + 1\n",
    "\n",
    "# The code above IS NOT a math equation!!!\n",
    "# It is\n",
    "#          variable <---  SOMETHING\n",
    "#\n",
    "# Python will do that SOMETHING first, then whatever that value is, it will assign\n",
    "# that value to the variable on the left\n",
    "# Let's see the value of x\n",
    "\n",
    "x  # Python will run the code before the first # sign. However, these two sentences will be ignored."
   ],
   "outputs": [],
   "metadata": {}
  },
  {
   "cell_type": "markdown",
   "source": [
    "## 3. String\n",
    "A string is a series of characters.\n",
    "\n",
    "### 3.1 Creating a string\n",
    "We can create a string (text) using single quotes or doulbe quotes."
   ],
   "metadata": {}
  },
  {
   "cell_type": "code",
   "execution_count": null,
   "source": [
    "# using single quotes\n",
    "'This is MUIC'"
   ],
   "outputs": [],
   "metadata": {}
  },
  {
   "cell_type": "code",
   "execution_count": null,
   "source": [
    "# using double quotes\n",
    "\"This is also MUIC.\""
   ],
   "outputs": [],
   "metadata": {}
  },
  {
   "cell_type": "markdown",
   "source": [
    "The may choose to use \" if we plan to have ' inside the string, and vice versa."
   ],
   "metadata": {}
  },
  {
   "cell_type": "code",
   "execution_count": null,
   "source": [
    "# Having a single quote inside double quotes\n",
    "\"It's me.\""
   ],
   "outputs": [],
   "metadata": {}
  },
  {
   "cell_type": "code",
   "execution_count": null,
   "source": [
    "# Having a double quote inside single quotes\n",
    "\n",
    "'Hello \"DUDE\" ...'"
   ],
   "outputs": [],
   "metadata": {}
  },
  {
   "cell_type": "markdown",
   "source": [
    "If you want to create a string but forget to put them inside '  ' or \"   \", we will get an error message."
   ],
   "metadata": {}
  },
  {
   "cell_type": "code",
   "execution_count": null,
   "source": [
    "Let's pretend to forget the quotes."
   ],
   "outputs": [],
   "metadata": {}
  },
  {
   "cell_type": "markdown",
   "source": [
    "### 3.2 Mixing string & numbers\n"
   ],
   "metadata": {}
  },
  {
   "cell_type": "code",
   "execution_count": null,
   "source": [
    "x = 3\n",
    "\"There are {spot_one} cars!\".format(spot_one=x)"
   ],
   "outputs": [],
   "metadata": {}
  },
  {
   "cell_type": "code",
   "execution_count": null,
   "source": [
    "b = 3\n",
    "c = 4\n",
    "\"I have {spot_one} brothers and {spot_two} sisters.\".format(spot_one = b, spot_two = c)"
   ],
   "outputs": [],
   "metadata": {}
  },
  {
   "cell_type": "code",
   "execution_count": null,
   "source": [
    "d = 2\n",
    "unit = \"cars\"\n",
    "\"He has {spot_one} {spot_two}.\".format(spot_one = d, spot_two = unit)"
   ],
   "outputs": [],
   "metadata": {}
  },
  {
   "cell_type": "markdown",
   "source": [
    "### Using f-string\n",
    "f-string as a newer way of formatting strings.\n",
    "This looks a bit strange to have a letter ( f or F ) in front of our string. This letter is a signal to tell python that during run time, change the placeholder to the real value."
   ],
   "metadata": {}
  },
  {
   "cell_type": "code",
   "execution_count": null,
   "source": [
    "\"This line is just a string. It will never change {2*3}\""
   ],
   "outputs": [],
   "metadata": {}
  },
  {
   "cell_type": "markdown",
   "source": [
    "Now, we will create an f-string by adding a letter f in front of the string."
   ],
   "metadata": {}
  },
  {
   "cell_type": "code",
   "execution_count": null,
   "source": [
    "f\"A part inside this string will be changed during runtime. {2*3}\""
   ],
   "outputs": [],
   "metadata": {}
  },
  {
   "cell_type": "markdown",
   "source": [
    "We can also use with variables.\n",
    "Try:\n",
    "```python\n",
    "x = 3\n",
    "unit = \"cars\"\n",
    "sentence = f\"Tom has {x} {unit}.\"\n",
    "sentence\n",
    "```"
   ],
   "metadata": {}
  },
  {
   "cell_type": "code",
   "execution_count": null,
   "source": [
    "x = 3\n",
    "unit = \"cars\"\n",
    "sentence = f\"Tom has {x} {unit}.\"\n",
    "sentence"
   ],
   "outputs": [],
   "metadata": {}
  },
  {
   "cell_type": "markdown",
   "source": [],
   "metadata": {}
  }
 ],
 "metadata": {
  "language_info": {
   "codemirror_mode": {
    "name": "ipython",
    "version": 3
   },
   "file_extension": ".py",
   "mimetype": "text/x-python",
   "name": "python",
   "nbconvert_exporter": "python",
   "pygments_lexer": "ipython3",
   "version": "3.8.5"
  },
  "orig_nbformat": 2,
  "kernelspec": {
   "name": "python3",
   "display_name": "Python 3.8.5 64-bit ('base': conda)"
  },
  "interpreter": {
   "hash": "dca0ade3e726a953b501b15e8e990130d2b7799f14cfd9f4271676035ebe5511"
  }
 },
 "nbformat": 4,
 "nbformat_minor": 2
}